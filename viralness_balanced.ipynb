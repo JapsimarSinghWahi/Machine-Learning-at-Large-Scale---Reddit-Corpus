{
 "cells": [
  {
   "cell_type": "code",
   "execution_count": 1,
   "metadata": {},
   "outputs": [
    {
     "data": {
      "application/vnd.jupyter.widget-view+json": {
       "model_id": "4fbeaba89ae548b09d61432e09b77128",
       "version_major": 2,
       "version_minor": 0
      },
      "text/plain": [
       "VBox()"
      ]
     },
     "metadata": {},
     "output_type": "display_data"
    },
    {
     "name": "stdout",
     "output_type": "stream",
     "text": [
      "Starting Spark application\n"
     ]
    },
    {
     "data": {
      "text/html": [
       "<table>\n",
       "<tr><th>ID</th><th>YARN Application ID</th><th>Kind</th><th>State</th><th>Spark UI</th><th>Driver log</th><th>Current session?</th></tr><tr><td>1</td><td>application_1607295858388_0002</td><td>pyspark</td><td>idle</td><td><a target=\"_blank\" href=\"http://ip-172-31-90-196.ec2.internal:20888/proxy/application_1607295858388_0002/\">Link</a></td><td><a target=\"_blank\" href=\"http://ip-172-31-85-73.ec2.internal:8042/node/containerlogs/container_1607295858388_0002_01_000001/livy\">Link</a></td><td>✔</td></tr></table>"
      ],
      "text/plain": [
       "<IPython.core.display.HTML object>"
      ]
     },
     "metadata": {},
     "output_type": "display_data"
    },
    {
     "data": {
      "application/vnd.jupyter.widget-view+json": {
       "model_id": "",
       "version_major": 2,
       "version_minor": 0
      },
      "text/plain": [
       "FloatProgress(value=0.0, bar_style='info', description='Progress:', layout=Layout(height='25px', width='50%'),…"
      ]
     },
     "metadata": {},
     "output_type": "display_data"
    },
    {
     "name": "stdout",
     "output_type": "stream",
     "text": [
      "SparkSession available as 'spark'.\n"
     ]
    },
    {
     "data": {
      "application/vnd.jupyter.widget-view+json": {
       "model_id": "",
       "version_major": 2,
       "version_minor": 0
      },
      "text/plain": [
       "FloatProgress(value=0.0, bar_style='info', description='Progress:', layout=Layout(height='25px', width='50%'),…"
      ]
     },
     "metadata": {},
     "output_type": "display_data"
    }
   ],
   "source": [
    "from collections import defaultdict\n",
    "import numpy as np\n",
    "from pyspark.ml.linalg import SparseVector\n",
    "from pyspark.sql.functions import explode\n",
    "from pyspark import SparkFiles\n",
    "from pyspark.sql import Row\n",
    "\n",
    "import bz2\n",
    "import json\n",
    "import time\n",
    "from pyspark.ml import Pipeline\n",
    "from pyspark.ml.feature import * # CountVectorizer, Tokenizer, RegexTokenizer, HashingTF\n",
    "from pyspark.ml.regression import * # RandomForestRegressor, LinearRegression, DecisionTreeRegressor\n",
    "from pyspark.ml.evaluation import RegressionEvaluator"
   ]
  },
  {
   "cell_type": "code",
   "execution_count": 2,
   "metadata": {},
   "outputs": [
    {
     "data": {
      "application/vnd.jupyter.widget-view+json": {
       "model_id": "8c0eb0da961847b092f63686b815190a",
       "version_major": 2,
       "version_minor": 0
      },
      "text/plain": [
       "VBox()"
      ]
     },
     "metadata": {},
     "output_type": "display_data"
    },
    {
     "data": {
      "application/vnd.jupyter.widget-view+json": {
       "model_id": "",
       "version_major": 2,
       "version_minor": 0
      },
      "text/plain": [
       "FloatProgress(value=0.0, bar_style='info', description='Progress:', layout=Layout(height='25px', width='50%'),…"
      ]
     },
     "metadata": {},
     "output_type": "display_data"
    }
   ],
   "source": [
    "def timeit(method):\n",
    "    '''\n",
    "    Decorator to time functions.\n",
    "    '''\n",
    "    def timed(*args, **kw):\n",
    "        ts = time.time()\n",
    "        result = method(*args, **kw)\n",
    "        te = time.time()\n",
    "\n",
    "        print('%r took %2.2f sec\\n' % (method.__name__, te-ts))\n",
    "              \n",
    "        return result\n",
    "    return timed"
   ]
  },
  {
   "cell_type": "code",
   "execution_count": 3,
   "metadata": {},
   "outputs": [
    {
     "data": {
      "application/vnd.jupyter.widget-view+json": {
       "model_id": "9f40bec65939469ebbe991d92093f79e",
       "version_major": 2,
       "version_minor": 0
      },
      "text/plain": [
       "VBox()"
      ]
     },
     "metadata": {},
     "output_type": "display_data"
    },
    {
     "data": {
      "application/vnd.jupyter.widget-view+json": {
       "model_id": "",
       "version_major": 2,
       "version_minor": 0
      },
      "text/plain": [
       "FloatProgress(value=0.0, bar_style='info', description='Progress:', layout=Layout(height='25px', width='50%'),…"
      ]
     },
     "metadata": {},
     "output_type": "display_data"
    }
   ],
   "source": [
    "import re\n",
    "# DATAFILE_PATTERN = '^(.+),\"(.+)\",(.*),(.*),(.*)'\n",
    "ID_PATTERN = '\"id\":(.*?(?=,|}))'\n",
    "UPS_PATTERN = '\"ups\":(.*?(?=,|}))'\n",
    "BODY_PATTERN = '\"body\":(.*?(?=,|}))'\n",
    "# DOWNS_PATTERN = '\"downs\":(.*?(?=,|}))'\n",
    "SCORE_PATTERN = '\"score\":(.*?(?=,|}))'\n",
    "# CONTROVERSIALITY_PATTERN = '\"controversiality\":(.*?(?=,|}))'\n",
    "\n",
    "def removeQuotes(s):\n",
    "    \"\"\" Remove quotation marks from an input string\n",
    "    Args:\n",
    "        s (str): input string that might have the quote \"\" characters\n",
    "    Returns:\n",
    "        str: a string without the quote characters\n",
    "    \"\"\"\n",
    "    return ''.join(i for i in s if i!='\"')\n",
    "\n",
    "def parseDatafileLine(datafileLine):\n",
    "    \"\"\" Parse a line of the data file using the specified regular expression pattern\n",
    "    Args:\n",
    "        datafileLine (str): input string that is a line from the data file\n",
    "    Returns:\n",
    "        tuple: a tuple including the parsed results using the given regular expression and without the quote characters\n",
    "    \"\"\"\n",
    "    id_match = re.search(ID_PATTERN, datafileLine.decode('utf-8'))\n",
    "    ups_match = re.search(UPS_PATTERN, datafileLine.decode('utf-8'))\n",
    "    body_match = re.search(BODY_PATTERN, datafileLine.decode('utf-8'))\n",
    "    score_match = re.search(SCORE_PATTERN, datafileLine.decode('utf-8'))\n",
    "    \n",
    "    if (id_match is None) or (ups_match is None) or (body_match is None) or (score_match is None):\n",
    "        print('Invalid datafile line: %s' % datafileLine)\n",
    "        return (datafileLine, -1)\n",
    "    else:\n",
    "        viralness = 0\n",
    "        if int(score_match.group(1)) < -10 or int(score_match.group(1)) > 10:\n",
    "            viralness = 1\n",
    "        comment = (id_match.group(1), int(ups_match.group(1)), removeQuotes(body_match.group(1)), int(score_match.group(1)), viralness)\n",
    "        return (comment, 1)"
   ]
  },
  {
   "cell_type": "code",
   "execution_count": 5,
   "metadata": {},
   "outputs": [
    {
     "data": {
      "application/vnd.jupyter.widget-view+json": {
       "model_id": "6255c2f87ae34741811463fb0fa370d8",
       "version_major": 2,
       "version_minor": 0
      },
      "text/plain": [
       "VBox()"
      ]
     },
     "metadata": {},
     "output_type": "display_data"
    },
    {
     "data": {
      "application/vnd.jupyter.widget-view+json": {
       "model_id": "",
       "version_major": 2,
       "version_minor": 0
      },
      "text/plain": [
       "FloatProgress(value=0.0, bar_style='info', description='Progress:', layout=Layout(height='25px', width='50%'),…"
      ]
     },
     "metadata": {},
     "output_type": "display_data"
    },
    {
     "name": "stdout",
     "output_type": "stream",
     "text": [
      "s3://dsml-vasu-simar-daniel/RC_2015-0* - Read 156758730 lines, successfully parsed 147697364 lines, failed to parse 0 lines, 9061366 lines were deleted, 11674519 lines were viral, 145084211 lines were non-viral, 23346870 viral and non-viral lines were returned\n",
      "'loadData' took 276.31 sec"
     ]
    }
   ],
   "source": [
    "import sys\n",
    "import os\n",
    "from pyspark import SparkFiles\n",
    "\n",
    "#RC_PATH = '/FileStore/shared_uploads/ddk1@andrew.cmu.edu/RC_2007_10'\n",
    "RC_PATH = 's3://dsml-vasu-simar-daniel/RC_2015-0*'\n",
    "\n",
    "def parseData(path):\n",
    "    \"\"\" Parse a data file\n",
    "    Args:\n",
    "        filename (str): input file name of the data file\n",
    "    Returns:\n",
    "        RDD: a RDD of parsed lines\n",
    "    \"\"\"\n",
    "#     sc.addFile(path)\n",
    "    return (sc\n",
    "            .textFile(path, 4, 0)\n",
    "            .map(parseDatafileLine)\n",
    "            .cache())\n",
    "@timeit\n",
    "def loadData(path):\n",
    "    \"\"\" Load a data file\n",
    "    Args:\n",
    "        path (str): input file name of the data file\n",
    "    Returns:\n",
    "        RDD: a RDD of parsed valid lines\n",
    "    \"\"\"\n",
    "\n",
    "    raw = parseData(path).cache()\n",
    "    \n",
    "    failed = (raw\n",
    "              .filter(lambda s: s[1] == -1)\n",
    "              .map(lambda s: s[0]))\n",
    "    for line in failed.take(10):\n",
    "        print('%s - Invalid datafile line: %s' % (path, line))\n",
    "    \n",
    "    deleted = (raw\n",
    "             .filter(lambda s: s[0][2] == '[deleted]')\n",
    "             .map(lambda s: s[0]))\n",
    "    \n",
    "    valid = (raw\n",
    "             .filter(lambda s: s[1] == 1)\n",
    "             .filter(lambda s: s[0][2] != '[deleted]')\n",
    "             .map(lambda s: s[0])\n",
    "             .cache())\n",
    "   \n",
    "    viral = (raw\n",
    "             .filter(lambda s: s[1] == 1)\n",
    "             .filter(lambda s: s[0][4] == 1)\n",
    "             .map(lambda s: s[0])\n",
    "             .cache())\n",
    "    nonviral = (raw\n",
    "               .filter(lambda s: s[1] == 1)\n",
    "               .filter(lambda s: s[0][4] == 0)\n",
    "               .map(lambda s: s[0])\n",
    "               .cache())\n",
    "    nonviral_cut = nonviral.sample(False, viral.count()/nonviral.count())\n",
    "    viral_nonviral_cut = viral.union(nonviral_cut)\n",
    "    print('%s - Read %d lines, successfully parsed %d lines, failed to parse %d lines, %d lines were deleted, %d lines were viral, %d lines were non-viral, %d viral and non-viral lines were returned' % (path,\n",
    "                                                                                                                                                                                                 raw.count(),\n",
    "                                                                                                                                                                                                 valid.count(),\n",
    "                                                                                                                                                                                                 failed.count(),\n",
    "                                                                                                                                                                                                 deleted.count(),\n",
    "                                                                                                                                                                                                 viral.count(),\n",
    "                                                                                                                                                                                                 nonviral.count(),\n",
    "                                                                                                                                                                                                 viral_nonviral_cut.count()))                                                  \n",
    "    return viral_nonviral_cut\n",
    "\n",
    "reddit = loadData(RC_PATH)"
   ]
  },
  {
   "cell_type": "code",
   "execution_count": 17,
   "metadata": {},
   "outputs": [
    {
     "data": {
      "application/vnd.jupyter.widget-view+json": {
       "model_id": "f455e67dc8a447d1abb32ffde33a063c",
       "version_major": 2,
       "version_minor": 0
      },
      "text/plain": [
       "VBox()"
      ]
     },
     "metadata": {},
     "output_type": "display_data"
    },
    {
     "data": {
      "application/vnd.jupyter.widget-view+json": {
       "model_id": "",
       "version_major": 2,
       "version_minor": 0
      },
      "text/plain": [
       "FloatProgress(value=0.0, bar_style='info', description='Progress:', layout=Layout(height='25px', width='50%'),…"
      ]
     },
     "metadata": {},
     "output_type": "display_data"
    },
    {
     "name": "stdout",
     "output_type": "stream",
     "text": [
      "+---------+----+--------------------+-----+---------+\n",
      "|       id| ups|                body|score|viralness|\n",
      "+---------+----+--------------------+-----+---------+\n",
      "|\"cnas8zv\"|  14|Most of us have s...|   14|        1|\n",
      "|\"cnas90g\"|  17|&gt;&gt;If a woma...|   17|        1|\n",
      "|\"cnas91f\"|  19|Made a multiscree...|   19|        1|\n",
      "|\"cnas91m\"|  41|A lot of disrespe...|   41|        1|\n",
      "|\"cnas91w\"|  14|You hear that SDS...|   14|        1|\n",
      "|\"cnas92j\"|  18|   The greater good.|   18|        1|\n",
      "|\"cnas932\"| -11|No. It's fucking ...|  -11|        1|\n",
      "|\"cnas938\"|  14|And one pit. Poor...|   14|        1|\n",
      "|\"cnas93e\"|  22|Oh man........\\n\\...|   22|        1|\n",
      "|\"cnas93l\"|  24|lol if that happe...|   24|        1|\n",
      "|\"cnas93m\"|  23|why are some play...|   23|        1|\n",
      "|\"cnas93o\"|  49|Compulsive hugger...|   49|        1|\n",
      "|\"cnas944\"|  14|Does this mean Ha...|   14|        1|\n",
      "|\"cnas94h\"|  82|Output:\\n\\n    Ha...|   82|        1|\n",
      "|\"cnas951\"|  59|I thought that co...|   59|        1|\n",
      "|\"cnas953\"|  24|The League Cup is...|   24|        1|\n",
      "|\"cnas95n\"|  25|If only MonoCorp ...|   25|        1|\n",
      "|\"cnas95w\"|  48|When we made love...|   48|        1|\n",
      "|\"cnas96h\"|  11|Next time wait un...|   11|        1|\n",
      "|\"cnas96o\"|  86|      A Bron person.|   86|        1|\n",
      "|\"cnas97m\"|  69|Option 0) tell th...|   69|        1|\n",
      "|\"cnas97r\"|  17|There's unpopular...|   17|        1|\n",
      "|\"cnas989\"|  14|       Which you are|   14|        1|\n",
      "|\"cnas98l\"|  13|That's a really s...|   13|        1|\n",
      "|\"cnas98y\"|  13|     In all fairness|   13|        1|\n",
      "|\"cnas993\"|  20|         Wasteland 2|   20|        1|\n",
      "|\"cnas99e\"| -28|Bro skip the wedd...|  -28|        1|\n",
      "|\"cnas9aa\"|  16|You missed saxxies. |   16|        1|\n",
      "|\"cnas9b0\"|  27|Actually the cops...|   27|        1|\n",
      "|\"cnas9bl\"|  13|Truth doesn't mat...|   13|        1|\n",
      "|\"cnas9bm\"|  26|           Holy shit|   26|        1|\n",
      "|\"cnas9cx\"|  12|       At this point|   12|        1|\n",
      "|\"cnas9d3\"|  21|Why would you eve...|   21|        1|\n",
      "|\"cnas9ez\"|  16|What's laser ques...|   16|        1|\n",
      "|\"cnas9fl\"|  48|\\Too many people ...|   48|        1|\n",
      "|\"cnas9g9\"|  15|Lake Elsinore---&...|   15|        1|\n",
      "|\"cnas9ge\"|  16|Even though the f...|   16|        1|\n",
      "|\"cnas9gm\"|  15|           [deleted]|   15|        1|\n",
      "|\"cnas9h7\"|  13|Judging from his ...|   13|        1|\n",
      "|\"cnas9he\"|  12|Dogs like Rocket ...|   12|        1|\n",
      "|\"cnas9i8\"|  19|That looks like i...|   19|        1|\n",
      "|\"cnas9ik\"|  28|try coins - shoul...|   28|        1|\n",
      "|\"cnas9im\"|  18|The power of eSpo...|   18|        1|\n",
      "|\"cnas9ip\"|  42|    Aspire for a win|   42|        1|\n",
      "|\"cnas9iu\"|  26|Forgetting song l...|   26|        1|\n",
      "|\"cnas9ju\"| 277|I don't think thi...|  277|        1|\n",
      "|\"cnas9jz\"|  17|Let's make this h...|   17|        1|\n",
      "|\"cnas9k0\"|  18|How do you find s...|   18|        1|\n",
      "|\"cnas9ka\"|  32|Get in my belly T...|   32|        1|\n",
      "|\"cnas9kj\"|  35|LET THE GOALIE BA...|   35|        1|\n",
      "|\"cnas9kl\"|  28|This is the best ...|   28|        1|\n",
      "|\"cnas9ky\"|  17|            Actually|   17|        1|\n",
      "|\"cnas9lk\"|  35|All the commenter...|   35|        1|\n",
      "|\"cnas9lx\"|  18|Not just UNemploy...|   18|        1|\n",
      "|\"cnas9m1\"|  12|I did just that b...|   12|        1|\n",
      "|\"cnas9mu\"|  17|&gt; this means t...|   17|        1|\n",
      "|\"cnas9mv\"|  43|Good to know that...|   43|        1|\n",
      "|\"cnas9mz\"| 108|Remember - the en...|  108|        1|\n",
      "|\"cnas9nc\"|  16|The wiki puts it ...|   16|        1|\n",
      "|\"cnas9nd\"|  20|It wasn't on Marrone|   20|        1|\n",
      "|\"cnas9nj\"|  71|Everything about ...|   71|        1|\n",
      "|\"cnas9nt\"|  21|Can't let the sug...|   21|        1|\n",
      "|\"cnas9o7\"| 348|Trust me it's bet...|  348|        1|\n",
      "|\"cnas9on\"| -11|           [deleted]|  -11|        1|\n",
      "|\"cnas9ow\"|  20|             I agree|   20|        1|\n",
      "|\"cnas9p3\"|  14|A challenger appr...|   14|        1|\n",
      "|\"cnas9p8\"|  42|OP is responding ...|   42|        1|\n",
      "|\"cnas9pa\"|  11|That's a rough 26...|   11|        1|\n",
      "|\"cnas9pt\"| -27|I really feel lik...|  -27|        1|\n",
      "|\"cnas9pu\"|  16|If I haven't seen it|   16|        1|\n",
      "|\"cnas9pv\"|  26|Sounds like you'r...|   26|        1|\n",
      "|\"cnas9qm\"|  15| Have a god damn job|   15|        1|\n",
      "|\"cnas9r5\"|  12|I love that we pl...|   12|        1|\n",
      "|\"cnas9rf\"|  52|This isn't /r/foo...|   52|        1|\n",
      "|\"cnas9sk\"|  11|EF0 = \\Dust Devil...|   11|        1|\n",
      "|\"cnas9so\"|  74|Jimmy Butler isn'...|   74|        1|\n",
      "|\"cnas9tg\"|  18|did that person p...|   18|        1|\n",
      "|\"cnas9tz\"|  49|It's fine dude. :...|   49|        1|\n",
      "|\"cnas9us\"|  12|I had it made. 2....|   12|        1|\n",
      "|\"cnas9v5\"| -36|The room is dirty...|  -36|        1|\n",
      "|\"cnas9va\"|  15|GET ON THE HYPE T...|   15|        1|\n",
      "|\"cnas9vn\"|1012|It became a Hallo...| 1012|        1|\n",
      "|\"cnas9w6\"|  16|      Different user|   16|        1|\n",
      "|\"cnas9w9\"|  14|He's also REALLY ...|   14|        1|\n",
      "|\"cnas9wi\"| -66|&gt;that assumes ...|  -66|        1|\n",
      "|\"cnas9wr\"|  12|Even when you got...|   12|        1|\n",
      "|\"cnas9y1\"| -11|     if they want it|  -11|        1|\n",
      "|\"cnas9y3\"|  17|They could put on...|   17|        1|\n",
      "|\"cnas9y6\"|  13|\\backers download...|   13|        1|\n",
      "|\"cnas9zr\"|  81|If only we had th...|   81|        1|\n",
      "|\"cnasa0f\"|  12|yea I mean hot bi...|   12|        1|\n",
      "|\"cnasa1c\"|  39|You mean \\on the ...|   39|        1|\n",
      "|\"cnasa1m\"|  30|I can never find ...|   30|        1|\n",
      "|\"cnasa1q\"|  15|Same. I bought a ...|   15|        1|\n",
      "|\"cnasa28\"|  17|Yall got any more...|   17|        1|\n",
      "|\"cnasa29\"| -25|What a fucking lo...|  -25|        1|\n",
      "|\"cnasa2c\"|  42|Lol the way he dr...|   42|        1|\n",
      "|\"cnasa3a\"|  11|My dad turns his ...|   11|        1|\n",
      "|\"cnasa4l\"|  11|           [deleted]|   11|        1|\n",
      "|\"cnasa4s\"|  13|\\High crawl for s...|   13|        1|\n",
      "+---------+----+--------------------+-----+---------+\n",
      "only showing top 100 rows"
     ]
    }
   ],
   "source": [
    "sentenceDF.show(100)"
   ]
  },
  {
   "cell_type": "code",
   "execution_count": 6,
   "metadata": {},
   "outputs": [
    {
     "data": {
      "application/vnd.jupyter.widget-view+json": {
       "model_id": "ac81ea8421634e46a1ff52026d13ae2f",
       "version_major": 2,
       "version_minor": 0
      },
      "text/plain": [
       "VBox()"
      ]
     },
     "metadata": {},
     "output_type": "display_data"
    },
    {
     "data": {
      "application/vnd.jupyter.widget-view+json": {
       "model_id": "",
       "version_major": 2,
       "version_minor": 0
      },
      "text/plain": [
       "FloatProgress(value=0.0, bar_style='info', description='Progress:', layout=Layout(height='25px', width='50%'),…"
      ]
     },
     "metadata": {},
     "output_type": "display_data"
    },
    {
     "name": "stdout",
     "output_type": "stream",
     "text": [
      "+---------+---+--------------------+-----+---------+\n",
      "|       id|ups|                body|score|viralness|\n",
      "+---------+---+--------------------+-----+---------+\n",
      "|\"cnas8zv\"| 14|Most of us have s...|   14|        1|\n",
      "|\"cnas90g\"| 17|&gt;&gt;If a woma...|   17|        1|\n",
      "|\"cnas91f\"| 19|Made a multiscree...|   19|        1|\n",
      "|\"cnas91m\"| 41|A lot of disrespe...|   41|        1|\n",
      "|\"cnas91w\"| 14|You hear that SDS...|   14|        1|\n",
      "+---------+---+--------------------+-----+---------+\n",
      "only showing top 5 rows"
     ]
    }
   ],
   "source": [
    "sentenceDF = reddit.toDF().selectExpr(\"_1 as id\", \"_2 as ups\", \"_3 as body\", \"_4 as score\", \"_5 as viralness\")\n",
    "sentenceDF.show(n=5)"
   ]
  },
  {
   "cell_type": "code",
   "execution_count": 7,
   "metadata": {},
   "outputs": [
    {
     "data": {
      "application/vnd.jupyter.widget-view+json": {
       "model_id": "58f15fc5763a44fab1eeb00669d95a63",
       "version_major": 2,
       "version_minor": 0
      },
      "text/plain": [
       "VBox()"
      ]
     },
     "metadata": {},
     "output_type": "display_data"
    },
    {
     "data": {
      "application/vnd.jupyter.widget-view+json": {
       "model_id": "",
       "version_major": 2,
       "version_minor": 0
      },
      "text/plain": [
       "FloatProgress(value=0.0, bar_style='info', description='Progress:', layout=Layout(height='25px', width='50%'),…"
      ]
     },
     "metadata": {},
     "output_type": "display_data"
    }
   ],
   "source": [
    "split_regex = r'\\W+'\n",
    "linebreak_regex = r'\\\\r\\\\n\\\\r\\\\n'\n",
    "\n",
    "def simpleTokenize(string):\n",
    "    \"\"\" A simple implementation of input string tokenization\n",
    "    Args:\n",
    "        string (str): input string\n",
    "    Returns:\n",
    "        list: a list of tokens\n",
    "    \"\"\"\n",
    "    linebreak_removed_string = re.sub(linebreak_regex, \" \", string)\n",
    "    return list(filter(None, re.split(split_regex, linebreak_removed_string.lower())))"
   ]
  },
  {
   "cell_type": "code",
   "execution_count": 8,
   "metadata": {},
   "outputs": [
    {
     "data": {
      "application/vnd.jupyter.widget-view+json": {
       "model_id": "1ca82fc2e303435cb16ffbd670484a63",
       "version_major": 2,
       "version_minor": 0
      },
      "text/plain": [
       "VBox()"
      ]
     },
     "metadata": {},
     "output_type": "display_data"
    },
    {
     "data": {
      "application/vnd.jupyter.widget-view+json": {
       "model_id": "",
       "version_major": 2,
       "version_minor": 0
      },
      "text/plain": [
       "FloatProgress(value=0.0, bar_style='info', description='Progress:', layout=Layout(height='25px', width='50%'),…"
      ]
     },
     "metadata": {},
     "output_type": "display_data"
    },
    {
     "name": "stdout",
     "output_type": "stream",
     "text": [
      "These are the stopwords: {'out', 'we', 'was', 'how', 'myself', 'for', 'they', 'about', 'then', 'both', 'so', 'don', 'as', 'any', 'after', 'you', 'why', 'been', 'where', 'by', 'yourself', 'a', 'did', 'their', 'doing', 'be', 'further', 'ours', 'now', 'am', 'her', 'yourselves', 'that', 'what', 'my', 'to', 'not', 'own', 'there', 'this', 'each', 'all', 'more', 'me', 'which', 'himself', 'nor', 'other', 'who', 'same', 'at', 'such', 't', 'up', 'than', 'can', 'too', 'these', 'while', 'before', 'ourselves', 'he', 'i', 'our', 'its', 'but', 'with', 'because', 'those', 'the', 'it', 'hers', 'just', 'over', 'between', 'had', 'does', 'have', 'and', 'some', 'or', 'only', 'when', 'below', 'in', 'if', 'theirs', 'again', 'his', 'whom', 'above', 'should', 'itself', 'themselves', 'until', 'are', 'she', 'will', 'from', 'into', 'no', 'your', 'few', 'herself', 'of', 'has', 'down', 'were', 'once', 'having', 'them', 'under', 'him', 'do', 'on', 'an', 'yours', 'being', 'off', 'very', 'through', 'most', 'against', 'here', 'is', 's', 'during'}"
     ]
    }
   ],
   "source": [
    "stopwords = set(sc.textFile(\"s3://dsml-vasu-simar-daniel/stopwords.txt\").collect())\n",
    "print('These are the stopwords: %s' % stopwords)\n",
    "\n",
    "def tokenize(string):\n",
    "    \"\"\" An implementation of input string tokenization that excludes stopwords\n",
    "    Args:\n",
    "        string (str): input string\n",
    "    Returns:\n",
    "        list: a list of tokens without stopwords\n",
    "    \"\"\"\n",
    "    return list(filter(lambda word: word not in stopwords,simpleTokenize(string)))"
   ]
  },
  {
   "cell_type": "code",
   "execution_count": 9,
   "metadata": {},
   "outputs": [
    {
     "data": {
      "application/vnd.jupyter.widget-view+json": {
       "model_id": "8338f6965a45443fba4f18c37cacdcac",
       "version_major": 2,
       "version_minor": 0
      },
      "text/plain": [
       "VBox()"
      ]
     },
     "metadata": {},
     "output_type": "display_data"
    },
    {
     "data": {
      "application/vnd.jupyter.widget-view+json": {
       "model_id": "",
       "version_major": 2,
       "version_minor": 0
      },
      "text/plain": [
       "FloatProgress(value=0.0, bar_style='info', description='Progress:', layout=Layout(height='25px', width='50%'),…"
      ]
     },
     "metadata": {},
     "output_type": "display_data"
    },
    {
     "name": "stdout",
     "output_type": "stream",
     "text": [
      "[('\"cnas8zv\"', 14, ['us', 'family', 'members', 'like', 'family', 'like'], 14, 1), ('\"cnas90g\"', 17, ['gt', 'gt', 'woman', 'wants', 'give', 'child', 'adoption', 'named', 'father'], 17, 1), ('\"cnas91f\"', 19, ['made', 'multiscreen', 'video', 'sony', 'vegas', 'converted', 'webm'], 19, 1), ('\"cnas91m\"', 41, ['lot', 'disrespecting', 'league', 'today', 'think', 'll', 'eventually', 'need', 'see', 'garber', 'publicly', 'reprimanding', 'nycfc', 'ownership', 'group', 'doubt', 'would', 'happen', 'though'], 41, 1), ('\"cnas91w\"', 14, ['hear', 'sdss', 'j122952', '66', '112227', '8', 'heard', 'talking', 'shit', 're', 'coming', 'ya'], 14, 1)]\n",
      "There are 210121830 tokens in the combined datasets"
     ]
    }
   ],
   "source": [
    "redditRecToToken = reddit.map(lambda line: (line[0], line[1], tokenize(line[2]),line[3], line[4]))\n",
    "\n",
    "print(redditRecToToken.take(5))\n",
    "\n",
    "def countTokens(vendorRDD):\n",
    "    \"\"\" Count and return the number of tokens\n",
    "    Args:\n",
    "        vendorRDD (RDD of (recordId, tokenizedValue)): Pair tuple of record ID to tokenized output\n",
    "    Returns:\n",
    "        count: count of all tokens\n",
    "    \"\"\"\n",
    "    # TODO: Uncomment the template below and replace <FILL IN> with appropriate code\n",
    "    recordCount = vendorRDD.map(lambda line: len(line[0]))\n",
    "    recordSum = recordCount.sum()\n",
    "    return recordSum\n",
    "\n",
    "totalTokens = countTokens(redditRecToToken)\n",
    "print('There are %s tokens in the combined datasets' % totalTokens)"
   ]
  },
  {
   "cell_type": "code",
   "execution_count": 10,
   "metadata": {},
   "outputs": [
    {
     "data": {
      "application/vnd.jupyter.widget-view+json": {
       "model_id": "e24b677b82d94d438cd76afbbfbaa805",
       "version_major": 2,
       "version_minor": 0
      },
      "text/plain": [
       "VBox()"
      ]
     },
     "metadata": {},
     "output_type": "display_data"
    },
    {
     "data": {
      "application/vnd.jupyter.widget-view+json": {
       "model_id": "",
       "version_major": 2,
       "version_minor": 0
      },
      "text/plain": [
       "FloatProgress(value=0.0, bar_style='info', description='Progress:', layout=Layout(height='25px', width='50%'),…"
      ]
     },
     "metadata": {},
     "output_type": "display_data"
    }
   ],
   "source": [
    "@timeit\n",
    "def term_frequency(df, inputCol, outputCol, hashFeatures=None):\n",
    "    '''\n",
    "    Returns a DataFrame object containing a new row with the extracted features. \n",
    "    Passing hashed=True will return a Featured Hashed matrix.\n",
    "    \n",
    "    @params:\n",
    "        df - DataFrame\n",
    "        inputCol - name of input column from DataFrame to find features\n",
    "        outputCol - name of the column to save the features\n",
    "        hashFeatures - number of features for HashingTF, if None will perform \n",
    "            CountVectorization\n",
    "    '''\n",
    "    \n",
    "    # since the number of features was not passed perform standard CountVectorization\n",
    "    if hashFeatures is None:\n",
    "        cv = CountVectorizer(inputCol=inputCol, outputCol=outputCol)\n",
    "        feature_extractor = cv.fit(df)\n",
    "    # otherwise perform a feature extractor with \n",
    "    else:\n",
    "        feature_extractor = HashingTF(\\\n",
    "                              inputCol=inputCol, outputCol=outputCol, numFeatures=hashFeatures)\n",
    "    \n",
    "    # create a new DataFrame using either feature extraction method\n",
    "    return feature_extractor.transform(df)"
   ]
  },
  {
   "cell_type": "code",
   "execution_count": 11,
   "metadata": {},
   "outputs": [
    {
     "data": {
      "application/vnd.jupyter.widget-view+json": {
       "model_id": "ff04f11804bb4f02b318d7eea8ee9469",
       "version_major": 2,
       "version_minor": 0
      },
      "text/plain": [
       "VBox()"
      ]
     },
     "metadata": {},
     "output_type": "display_data"
    },
    {
     "data": {
      "application/vnd.jupyter.widget-view+json": {
       "model_id": "",
       "version_major": 2,
       "version_minor": 0
      },
      "text/plain": [
       "FloatProgress(value=0.0, bar_style='info', description='Progress:', layout=Layout(height='25px', width='50%'),…"
      ]
     },
     "metadata": {},
     "output_type": "display_data"
    },
    {
     "name": "stdout",
     "output_type": "stream",
     "text": [
      "'term_frequency' took 0.24 sec\n",
      "\n",
      "+--------------------+--------------------+\n",
      "|      filtered_words|            features|\n",
      "+--------------------+--------------------+\n",
      "|[us, family, memb...|(1024,[368,386,45...|\n",
      "|[gt, gt, woman, w...|(1024,[101,159,31...|\n",
      "|[made, multiscree...|(1024,[15,474,496...|\n",
      "|[lot, disrespecti...|(1024,[85,88,159,...|\n",
      "|[hear, sdss, j122...|(1024,[122,340,49...|\n",
      "+--------------------+--------------------+\n",
      "only showing top 5 rows"
     ]
    }
   ],
   "source": [
    "wordsFilteredDF = spark.createDataFrame(redditRecToToken).toDF(\"id\", \"ups\", \"filtered_words\", \"score\", \"viralness\")\n",
    "\n",
    "# Feature Hash the comment content\n",
    "# number of features for Feature Hash matrix, reccomended too use power of 2\n",
    "hashDF = term_frequency(\\\n",
    "    df=wordsFilteredDF, inputCol=\"filtered_words\", outputCol=\"features\", hashFeatures=1024)\n",
    "\n",
    "# Display snippet of new DataFrame\n",
    "hashDF.select('filtered_words','features').show(5)"
   ]
  },
  {
   "cell_type": "code",
   "execution_count": 12,
   "metadata": {},
   "outputs": [
    {
     "data": {
      "application/vnd.jupyter.widget-view+json": {
       "model_id": "5706137dd1144c1c8a32cbd14e9f5861",
       "version_major": 2,
       "version_minor": 0
      },
      "text/plain": [
       "VBox()"
      ]
     },
     "metadata": {},
     "output_type": "display_data"
    },
    {
     "data": {
      "application/vnd.jupyter.widget-view+json": {
       "model_id": "",
       "version_major": 2,
       "version_minor": 0
      },
      "text/plain": [
       "FloatProgress(value=0.0, bar_style='info', description='Progress:', layout=Layout(height='25px', width='50%'),…"
      ]
     },
     "metadata": {},
     "output_type": "display_data"
    }
   ],
   "source": [
    "@timeit\n",
    "def random_forest_regression(df, featuresCol, labelCol):\n",
    "    '''\n",
    "    Returns a DataFrame containing a column of predicted values of the labelCol.\n",
    "    Predict the output of labelCol using values in featuresCol y = rf(x).\n",
    "    \n",
    "    @params:\n",
    "        df - DataFrame\n",
    "        featuresCol - input features, x\n",
    "        labelCol - output variable, y\n",
    "    '''\n",
    "    # split the training and test data using the holdout method\n",
    "    (trainingData, testData) = df.randomSplit([0.8, 0.2])\n",
    "    \n",
    "    # create the random forest regressor, limit number of trees to ten\n",
    "    dtr = RandomForestRegressor(\\\n",
    "       featuresCol=featuresCol, labelCol=labelCol)\n",
    "    \n",
    "    # fit the training data to the regressor to create the model\n",
    "    model = dtr.fit(trainingData)\n",
    "    \n",
    "    # create a DataFrame contained a column with predicted values of the labelCol\n",
    "    predictions = model.transform(testData)\n",
    "    \n",
    "    return predictions"
   ]
  },
  {
   "cell_type": "code",
   "execution_count": 13,
   "metadata": {},
   "outputs": [
    {
     "data": {
      "application/vnd.jupyter.widget-view+json": {
       "model_id": "2c49b361d8614054bf77eeb714348f43",
       "version_major": 2,
       "version_minor": 0
      },
      "text/plain": [
       "VBox()"
      ]
     },
     "metadata": {},
     "output_type": "display_data"
    },
    {
     "data": {
      "application/vnd.jupyter.widget-view+json": {
       "model_id": "",
       "version_major": 2,
       "version_minor": 0
      },
      "text/plain": [
       "FloatProgress(value=0.0, bar_style='info', description='Progress:', layout=Layout(height='25px', width='50%'),…"
      ]
     },
     "metadata": {},
     "output_type": "display_data"
    },
    {
     "name": "stdout",
     "output_type": "stream",
     "text": [
      "'random_forest_regression' took 429.46 sec\n",
      "\n",
      "Root Mean Squared Error (RMSE) on test data = 0.496549"
     ]
    }
   ],
   "source": [
    "# train random forest regression\n",
    "rfpredictions = random_forest_regression(df=hashDF,featuresCol=\"features\",labelCol=\"viralness\")\n",
    "\n",
    "# compute the error\n",
    "evaluator = RegressionEvaluator(labelCol=\"viralness\", predictionCol=\"prediction\", metricName=\"rmse\")\n",
    "rmse = evaluator.evaluate(rfpredictions)\n",
    "print(\"Root Mean Squared Error (RMSE) on test data = %g\" % rmse)"
   ]
  },
  {
   "cell_type": "code",
   "execution_count": 15,
   "metadata": {},
   "outputs": [
    {
     "data": {
      "application/vnd.jupyter.widget-view+json": {
       "model_id": "44c87545dfa9455cb8a968395adc2d74",
       "version_major": 2,
       "version_minor": 0
      },
      "text/plain": [
       "VBox()"
      ]
     },
     "metadata": {},
     "output_type": "display_data"
    },
    {
     "data": {
      "application/vnd.jupyter.widget-view+json": {
       "model_id": "",
       "version_major": 2,
       "version_minor": 0
      },
      "text/plain": [
       "FloatProgress(value=0.0, bar_style='info', description='Progress:', layout=Layout(height='25px', width='50%'),…"
      ]
     },
     "metadata": {},
     "output_type": "display_data"
    },
    {
     "name": "stdout",
     "output_type": "stream",
     "text": [
      "+---------+---+--------------------+-----+---------+--------------------+------------------+\n",
      "|       id|ups|      filtered_words|score|viralness|            features|        prediction|\n",
      "+---------+---+--------------------+-----+---------+--------------------+------------------+\n",
      "|\"cnas93l\"| 24|[lol, happened, w...|   24|        1|(1024,[206,259,39...|0.5020501332664258|\n",
      "|\"cnas95n\"| 25|[monocorp, sells, x]|   25|        1|(1024,[46,668,802...|0.5020501332664258|\n",
      "|\"cnas993\"| 20|      [wasteland, 2]|   20|        1|(1024,[85,675],[1...|0.5020501332664258|\n",
      "|\"cnas9aa\"| 16|   [missed, saxxies]|   16|        1|(1024,[649,877],[...|0.5020501332664258|\n",
      "|\"cnas9bl\"| 13|[truth, doesn, ma...|   13|        1|(1024,[60,128,187...|0.5262861155417584|\n",
      "|\"cnas9d3\"| 21|[would, even, pos...|   21|        1|(1024,[184,237,25...|0.5020501332664258|\n",
      "|\"cnas9ka\"| 32|[get, belly, taylor]|   32|        1|(1024,[389,432,56...|0.5020501332664258|\n",
      "|\"cnas9kj\"| 35|[let, goalie, bat...|   35|        1|(1024,[259,327,44...|0.5020501332664258|\n",
      "|\"cnas9ky\"| 17|          [actually]|   17|        1|  (1024,[879],[1.0])|0.5020501332664258|\n",
      "|\"cnas9m1\"| 12|[young, child, di...|   12|        1|(1024,[159,688,74...|0.5020501332664258|\n",
      "|\"cnas9o7\"|348|[trust, better, w...|  348|        1|(1024,[205,322,46...|0.5020501332664258|\n",
      "|\"cnas9qm\"| 15|    [god, damn, job]|   15|        1|(1024,[862,870,98...|0.5020501332664258|\n",
      "|\"cnas9tz\"| 49|[fine, dude, n, n...|   49|        1|(1024,[16,40,140,...| 0.551194702609544|\n",
      "|\"cnas9y1\"|-11|              [want]|  -11|        1|  (1024,[816],[1.0])|0.5020501332664258|\n",
      "|\"cnasa1c\"| 39|   [mean, big, back]|   39|        1|(1024,[174,310,63...|0.5020501332664258|\n",
      "|\"cnasa1q\"| 15|[bought, lot, 4, ...|   15|        1|(1024,[77,104,131...|0.5020501332664258|\n",
      "|\"cnasa6r\"| 27|[svrely, yov, mea...|   27|        1|(1024,[108,475,59...|0.5020501332664258|\n",
      "|\"cnasabd\"| 16|[hypocrisy, re, b...|   16|        1|(1024,[14,132,271...|0.5262861155417584|\n",
      "|\"cnasag5\"| 23|[u, jereader, pos...|   23|        1|(1024,[226,301,36...|0.5020501332664258|\n",
      "|\"cnasah4\"| 11|[translated, n, g...|   11|        1|(1024,[101,261,39...|0.5544969885266597|\n",
      "|\"cnasam7\"| 16|               [tip]|   16|        1|  (1024,[947],[1.0])|0.5020501332664258|\n",
      "|\"cnasamt\"| 17|           [book, 2]|   17|        1|(1024,[85,697],[1...|0.5020501332664258|\n",
      "|\"cnasany\"| 14|[bizarre, wheneve...|   14|        1|(1024,[255,392,45...|0.4253789739453338|\n",
      "|\"cnasard\"| 34|[jesus, fucking, ...|   34|        1|(1024,[146,603,62...|0.5020501332664258|\n",
      "|\"cnasark\"| 11|[exactly, stomach...|   11|        1|(1024,[45,51,295,...|0.5020501332664258|\n",
      "|\"cnasave\"|-31|[edit, appears, v...|  -31|        1|(1024,[310,506,69...|0.5020501332664258|\n",
      "|\"cnasavn\"| 27| [things, say, team]|   27|        1|(1024,[180,264,70...|0.5020501332664258|\n",
      "|\"cnasavt\"|-13|[tried, murderein...|  -13|        1|(1024,[208,460,58...| 0.414613936466431|\n",
      "|\"cnasaz7\"| 25|          [stardust]|   25|        1|  (1024,[783],[1.0])|0.5020501332664258|\n",
      "|\"cnasazf\"| 17|[cons, injuries, ...|   17|        1|(1024,[259,442,61...|0.5020501332664258|\n",
      "|\"cnasb02\"|968|          [fairness]|  968|        1|  (1024,[260],[1.0])|0.5020501332664258|\n",
      "|\"cnasb26\"|-12|           [deleted]|  -12|        1|   (1024,[24],[1.0])|0.3494125226556319|\n",
      "|\"cnasb34\"| 14|[read, piece, yes...|   14|        1|(1024,[3,322,344,...|0.5020501332664258|\n",
      "|\"cnasb3a\"|-14|    [crushing, blow]|  -14|        1|(1024,[433,470],[...|0.5020501332664258|\n",
      "|\"cnasb4d\"| 21|[people, throwing...|   21|        1|(1024,[73,233,237...|0.5363082503579226|\n",
      "|\"cnasb4j\"| 19|[purpose, sound, ...|   19|        1|(1024,[69,428,762...|0.5020501332664258|\n",
      "|\"cnasb4t\"| 19|[lol, think, brot...|   19|        1|(1024,[0,112,131,...|0.5020501332664258|\n",
      "|\"cnasb5b\"|-23|[wouldn, surprise...|  -23|        1|(1024,[183,185,36...|0.5020501332664258|\n",
      "|\"cnasb8b\"|-13|[wow, infantile, ...|  -13|        1|(1024,[22,548,697...|0.5020501332664258|\n",
      "|\"cnasb9d\"| 14|[want, angry, loo...|   14|        1|(1024,[85,123,816...|0.5020501332664258|\n",
      "|\"cnasbdt\"| 35|[gets, captured, ...|   35|        1|(1024,[48,85,147,...|0.5020501332664258|\n",
      "|\"cnasbi9\"| 24|[2000, rocky, bal...|   24|        1|(1024,[4,151,176,...|0.5020501332664258|\n",
      "|\"cnasbiu\"| 19|[milked, cows, ha...|   19|        1|(1024,[223,296,40...|0.5020501332664258|\n",
      "|\"cnasbjs\"| 14|              [well]|   14|        1|  (1024,[557],[1.0])|0.5020501332664258|\n",
      "|\"cnasbn3\"| 34|[wasn, history, l...|   34|        1|(1024,[309,757,88...|0.5020501332664258|\n",
      "|\"cnasbpd\"|244|[lampard, n, nwhe...|  244|        1|(1024,[391,790,82...|0.5278481033870411|\n",
      "|\"cnasbr6\"|-15|[m, really, medie...|  -15|        1|(1024,[14,159,217...|0.5020501332664258|\n",
      "|\"cnasbr8\"| 12|[think, showing, ...|   12|        1|(1024,[161,256,32...|0.5020501332664258|\n",
      "|\"cnasbsa\"| 83|[two, computers, ...|   83|        1|(1024,[304,552,69...|0.5020501332664258|\n",
      "|\"cnasbsr\"| 22|[hope, ie, differ...|   22|        1|(1024,[160,200,30...|0.5020501332664258|\n",
      "|\"cnasbsw\"| 20|                  []|   20|        1|        (1024,[],[])|0.5020501332664258|\n",
      "|\"cnasbup\"|209|[picked, clip, gu...|  209|        1|(1024,[206,256,30...|0.5109097428981617|\n",
      "|\"cnasbv8\"| 11|[m, jealous, wish...|   11|        1|(1024,[239,309,40...|0.5020501332664258|\n",
      "|\"cnasbvh\"| 30|  [big, part, gotta]|   30|        1|(1024,[310,598,61...|0.5020501332664258|\n",
      "|\"cnasbvx\"| 13|[show, dedication...|   13|        1|(1024,[14,34,37,5...|0.5262861155417584|\n",
      "|\"cnasc1j\"| 40|[umm, yeah, know,...|   40|        1|(1024,[55,145,476...|0.5020501332664258|\n",
      "|\"cnasc34\"| 16|[things, less, ac...|   16|        1|(1024,[50,155,264...|0.5020501332664258|\n",
      "|\"cnascbv\"| 35|[think, listened,...|   35|        1|(1024,[396,595,60...|0.5020501332664258|\n",
      "|\"cnasccq\"| 29|[nom, nom, nom, n...|   29|        1|(1024,[232,391,50...|0.5278481033870411|\n",
      "|\"cnascg6\"| 16|        [ffx, story]|   16|        1|(1024,[112,1009],...|0.5020501332664258|\n",
      "|\"cnasci8\"|243|[17, discovered, ...|  243|        1|(1024,[151,230,26...|0.5020501332664258|\n",
      "|\"cnasclz\"|-37|           [deleted]|  -37|        1|   (1024,[24],[1.0])|0.3494125226556319|\n",
      "|\"cnascqh\"| 16|[upvotes, sassy, ...|   16|        1|(1024,[112,379,39...|0.5262861155417584|\n",
      "|\"cnasctb\"| 18|           [memeing]|   18|        1|  (1024,[754],[1.0])|0.5020501332664258|\n",
      "|\"cnascu9\"|114|[father, doctor, ...|  114|        1|(1024,[63,331,345...|0.5363082503579226|\n",
      "|\"cnascx1\"| 29|         [deflation]|   29|        1|  (1024,[233],[1.0])|0.5020501332664258|\n",
      "|\"cnasd0m\"| 29|[love, kept, yots...|   29|        1|(1024,[70,112,139...|0.5262861155417584|\n",
      "|\"cnasd0r\"| 13|[things, blown, p...|   13|        1|(1024,[128,184,26...|0.5020501332664258|\n",
      "|\"cnasd5r\"| 19|[would, gone, 2, ...|   19|        1|(1024,[85,131,224...|0.5020501332664258|\n",
      "|\"cnasdci\"|155|[https, www, yout...|  155|        1|(1024,[165,238,25...|0.5099157377388563|\n",
      "|\"cnasdco\"|137|[great, great, gr...|  137|        1|(1024,[22,113,116...|0.5020501332664258|\n",
      "|\"cnasdex\"| 15|[giants, great, e...|   15|        1|(1024,[116,180,23...|0.5020501332664258|\n",
      "|\"cnasdez\"| 11|[rob, throw, incr...|   11|        1|(1024,[62,119,194...|0.5109097428981617|\n",
      "|\"cnasdfr\"| 70|[bismack, biyombo...|   70|        1|(1024,[243,430,97...|0.5020501332664258|\n",
      "|\"cnasdgb\"| 36|[m, inclined, agr...|   36|        1|(1024,[40,60,96,9...|0.5525618684011279|\n",
      "|\"cnasdic\"| 32|[lot, better, bre...|   32|        1|(1024,[205,231,42...|0.5020501332664258|\n",
      "|\"cnasdkq\"| 18|[need, accept, ca...|   18|        1|(1024,[14,20,100,...|0.5020501332664258|\n",
      "|\"cnasdne\"| 24|[seriously, recom...|   24|        1|(1024,[109,217,52...|0.5020501332664258|\n",
      "|\"cnasdnh\"| 51|      [think, ncats]|   51|        1|(1024,[396,911],[...|0.5020501332664258|\n",
      "|\"cnasdnu\"|144|                  []|  144|        1|        (1024,[],[])|0.5020501332664258|\n",
      "|\"cnasdo3\"| 23| [one, huge, redbox]|   23|        1|(1024,[116,134,44...|0.5020501332664258|\n",
      "|\"cnasdpa\"| 11|        [tape, lawl]|   11|        1|(1024,[59,584],[1...|0.5020501332664258|\n",
      "|\"cnasdps\"| 58|         [rip, 2014]|   58|        1|(1024,[268,868],[...|0.5020501332664258|\n",
      "|\"cnasdsy\"|-21|[hope, schwartz, ...|  -21|        1|(1024,[3,160,180,...|0.5581933858731463|\n",
      "|\"cnasdvl\"| 29|[seriously, weed,...|   29|        1|(1024,[88,109,228...|0.5262861155417584|\n",
      "|\"cnasdwc\"| 63|           [deleted]|   63|        1|   (1024,[24],[1.0])|0.3494125226556319|\n",
      "|\"cnase25\"| 21|[close, toilet, u...|   21|        1|(1024,[235,293,40...|0.5020501332664258|\n",
      "|\"cnase3l\"| 31|[clicked, wsj, li...|   31|        1|(1024,[101,144,32...|0.5720503275373112|\n",
      "|\"cnase49\"| 20|[understand, wint...|   20|        1|(1024,[97,223,237...|0.5020501332664258|\n",
      "|\"cnase4p\"| 19|[someone, get, gu...|   19|        1|(1024,[461,567,60...|0.4301778391887147|\n",
      "|\"cnase67\"| 19|              [fair]|   19|        1|  (1024,[648],[1.0])|0.5020501332664258|\n",
      "|\"cnase8f\"| 13|[gt, calls, anony...|   13|        1|(1024,[101,196,39...| 0.552935000681377|\n",
      "|\"cnase8j\"| 11|[made, ridiculous...|   11|        1|(1024,[111,467,49...|0.5020501332664258|\n",
      "|\"cnase95\"| 42|[thoughts, daley,...|   42|        1|(1024,[548,703,80...|0.5020501332664258|\n",
      "|\"cnase9w\"|195|[still, open, pop...|  195|        1|(1024,[360,386,40...|0.5386852050825172|\n",
      "|\"cnaseaj\"| 25|[http, www, reddi...|   25|        1|(1024,[208,226,25...|0.4907398394872298|\n",
      "|\"cnasebf\"| 24|[old, lady, drive...|   24|        1|(1024,[66,104,292...|0.5020501332664258|\n",
      "|\"cnasebn\"| 19|        [gt, badman]|   19|        1|(1024,[101,189],[...|0.5143194970637942|\n",
      "|\"cnasebr\"| 14|[herniated, disc,...|   14|        1|(1024,[112,150,16...|0.5262861155417584|\n",
      "|\"cnasefe\"| 19|      [u, heff, mad]|   19|        1|(1024,[108,678,98...|0.5020501332664258|\n",
      "+---------+---+--------------------+-----+---------+--------------------+------------------+\n",
      "only showing top 100 rows"
     ]
    }
   ],
   "source": [
    "rfpredictions.show(100)"
   ]
  },
  {
   "cell_type": "code",
   "execution_count": 18,
   "metadata": {},
   "outputs": [
    {
     "data": {
      "application/vnd.jupyter.widget-view+json": {
       "model_id": "049609076ead4a7ca8fdcf08f3ef2266",
       "version_major": 2,
       "version_minor": 0
      },
      "text/plain": [
       "VBox()"
      ]
     },
     "metadata": {},
     "output_type": "display_data"
    },
    {
     "data": {
      "application/vnd.jupyter.widget-view+json": {
       "model_id": "",
       "version_major": 2,
       "version_minor": 0
      },
      "text/plain": [
       "FloatProgress(value=0.0, bar_style='info', description='Progress:', layout=Layout(height='25px', width='50%'),…"
      ]
     },
     "metadata": {},
     "output_type": "display_data"
    }
   ],
   "source": [
    "from pyspark.ml.classification import LogisticRegression\n",
    "from pyspark.mllib.classification import LogisticRegressionWithLBFGS, LogisticRegressionModel, LogisticRegressionWithSGD\n",
    "from pyspark.mllib.regression import LabeledPoint\n",
    "@timeit\n",
    "def logistic_regression_viral(df, featuresCol, labelCol):\n",
    "    '''\n",
    "    Returns a DataFrame containing a column of predicted values of the labelCol.\n",
    "    Predict the output of labelCol using values in featuresCol y = rf(x).\n",
    "    \n",
    "    @params:\n",
    "        df - DataFrame\n",
    "        featuresCol - input features, x\n",
    "        labelCol - output variable, y\n",
    "    '''\n",
    "    # split the training and test data using the holdout method\n",
    "#     print(df.count())\n",
    "#     df = df.filter((df.score >=0) & (df.score <10))\n",
    "#     print(df.show(10))\n",
    "#     print(df.count())\n",
    "    (trainingData, testData) = df.randomSplit([0.8, 0.2])\n",
    "    \n",
    "    \n",
    "    # TODO: Uncomment the lines below and replace <FILL IN> with appropriate code\n",
    "    # Given hyperparameters\n",
    "    standardization = False\n",
    "    elastic_net_param = 0.8\n",
    "    reg_param = .3\n",
    "    max_iter = 10\n",
    "\n",
    "    lr = (LogisticRegression(featuresCol=featuresCol, labelCol=labelCol, regParam = reg_param, standardization = standardization, maxIter = max_iter,elasticNetParam = elastic_net_param))\n",
    "  \n",
    "    lr_model_basic = lr.fit(trainingData)\n",
    "\n",
    "    trainingSummary = lr_model_basic.summary\n",
    "    accuracy = trainingSummary.accuracy\n",
    "    print(accuracy)\n",
    "    # create a DataFrame contained a column with predicted values of the labelCol\n",
    "    predictions = lr_model_basic.transform(testData)\n",
    "    \n",
    "    return predictions"
   ]
  },
  {
   "cell_type": "code",
   "execution_count": 19,
   "metadata": {},
   "outputs": [
    {
     "data": {
      "application/vnd.jupyter.widget-view+json": {
       "model_id": "f15aaf6819e54de69fdc17d014dfe1ff",
       "version_major": 2,
       "version_minor": 0
      },
      "text/plain": [
       "VBox()"
      ]
     },
     "metadata": {},
     "output_type": "display_data"
    },
    {
     "data": {
      "application/vnd.jupyter.widget-view+json": {
       "model_id": "",
       "version_major": 2,
       "version_minor": 0
      },
      "text/plain": [
       "FloatProgress(value=0.0, bar_style='info', description='Progress:', layout=Layout(height='25px', width='50%'),…"
      ]
     },
     "metadata": {},
     "output_type": "display_data"
    },
    {
     "name": "stdout",
     "output_type": "stream",
     "text": [
      "0.5000322903531419\n",
      "'logistic_regression_viral' took 116.50 sec\n",
      "\n",
      "Root Mean Squared Error (RMSE) on test data = 0.707362"
     ]
    }
   ],
   "source": [
    "# train random forest regression\n",
    "lrViralpredictions = logistic_regression_viral(df=hashDF,featuresCol=\"features\",labelCol=\"viralness\")\n",
    "\n",
    "# compute the error\n",
    "evaluator = RegressionEvaluator(labelCol=\"viralness\", predictionCol=\"prediction\", metricName=\"rmse\")\n",
    "rmse = evaluator.evaluate(lrViralpredictions)\n",
    "print (\"Root Mean Squared Error (RMSE) on test data = %g\" % rmse)"
   ]
  },
  {
   "cell_type": "code",
   "execution_count": 21,
   "metadata": {},
   "outputs": [
    {
     "data": {
      "application/vnd.jupyter.widget-view+json": {
       "model_id": "b4f219bc3ddb4b9db5942106858c9824",
       "version_major": 2,
       "version_minor": 0
      },
      "text/plain": [
       "VBox()"
      ]
     },
     "metadata": {},
     "output_type": "display_data"
    },
    {
     "data": {
      "application/vnd.jupyter.widget-view+json": {
       "model_id": "",
       "version_major": 2,
       "version_minor": 0
      },
      "text/plain": [
       "FloatProgress(value=0.0, bar_style='info', description='Progress:', layout=Layout(height='25px', width='50%'),…"
      ]
     },
     "metadata": {},
     "output_type": "display_data"
    },
    {
     "name": "stdout",
     "output_type": "stream",
     "text": [
      "+---------+---+--------------------+-----+---------+--------------------+--------------------+--------------------+----------+\n",
      "|       id|ups|      filtered_words|score|viralness|            features|       rawPrediction|         probability|prediction|\n",
      "+---------+---+--------------------+-----+---------+--------------------+--------------------+--------------------+----------+\n",
      "|\"cnas90g\"| 17|[gt, gt, woman, w...|   17|        1|(1024,[101,159,31...|[1.29161412747016...|[0.50003229035314...|       0.0|\n",
      "|\"cnas91f\"| 19|[made, multiscree...|   19|        1|(1024,[15,474,496...|[1.29161412747016...|[0.50003229035314...|       0.0|\n",
      "|\"cnas91m\"| 41|[lot, disrespecti...|   41|        1|(1024,[85,88,159,...|[1.29161412747016...|[0.50003229035314...|       0.0|\n",
      "|\"cnas98y\"| 13|          [fairness]|   13|        1|  (1024,[260],[1.0])|[1.29161412747016...|[0.50003229035314...|       0.0|\n",
      "|\"cnas9bl\"| 13|[truth, doesn, ma...|   13|        1|(1024,[60,128,187...|[1.29161412747016...|[0.50003229035314...|       0.0|\n",
      "|\"cnas9g9\"| 15|[lake, elsinore, ...|   15|        1|(1024,[101,303,41...|[1.29161412747016...|[0.50003229035314...|       0.0|\n",
      "|\"cnas9ge\"| 16|[even, though, fi...|   16|        1|(1024,[198,263,34...|[1.29161412747016...|[0.50003229035314...|       0.0|\n",
      "|\"cnas9ik\"| 28|[try, coins, impact]|   28|        1|(1024,[95,924,998...|[1.29161412747016...|[0.50003229035314...|       0.0|\n",
      "|\"cnas9nj\"| 71|[everything, cow,...|   71|        1|(1024,[42,889,100...|[1.29161412747016...|[0.50003229035314...|       0.0|\n",
      "|\"cnas9ow\"| 20|             [agree]|   20|        1|   (1024,[60],[1.0])|[1.29161412747016...|[0.50003229035314...|       0.0|\n",
      "|\"cnas9p3\"| 14|[challenger, appr...|   14|        1|(1024,[55,281],[1...|[1.29161412747016...|[0.50003229035314...|       0.0|\n",
      "|\"cnas9pa\"| 11|  [rough, 26, right]|   11|        1|(1024,[319,558,83...|[1.29161412747016...|[0.50003229035314...|       0.0|\n",
      "|\"cnas9pv\"| 26|[sounds, like, re...|   26|        1|(1024,[23,73,322,...|[1.29161412747016...|[0.50003229035314...|       0.0|\n",
      "|\"cnas9us\"| 12|[made, 2, 8, ct, ...|   12|        1|(1024,[85,112,122...|[1.29161412747016...|[0.50003229035314...|       0.0|\n",
      "|\"cnas9v5\"|-36|[room, dirty, fil...|  -36|        1|(1024,[249,451,49...|[1.29161412747016...|[0.50003229035314...|       0.0|\n",
      "|\"cnas9y6\"| 13|[backers, downloa...|   13|        1|(1024,[32,129,165...|[1.29161412747016...|[0.50003229035314...|       0.0|\n",
      "|\"cnas9zr\"| 81|[real, life, d, c...|   81|        1|(1024,[79,122,205...|[1.29161412747016...|[0.50003229035314...|       0.0|\n",
      "|\"cnasa1q\"| 15|[bought, lot, 4, ...|   15|        1|(1024,[77,104,131...|[1.29161412747016...|[0.50003229035314...|       0.0|\n",
      "|\"cnasa29\"|-25|    [fucking, loser]|  -25|        1|(1024,[503,624],[...|[1.29161412747016...|[0.50003229035314...|       0.0|\n",
      "|\"cnasa6d\"| 13| [get, chance, play]|   13|        1|(1024,[77,562,567...|[1.29161412747016...|[0.50003229035314...|       0.0|\n",
      "|\"cnasa7q\"| 19|    [mean, whatever]|   19|        1|(1024,[79,637],[1...|[1.29161412747016...|[0.50003229035314...|       0.0|\n",
      "|\"cnasa9o\"|-14|          [oh, look]|  -14|        1|(1024,[531,693],[...|[1.29161412747016...|[0.50003229035314...|       0.0|\n",
      "|\"cnasak9\"|101|[happy, new, year...|  101|        1|(1024,[131,160,17...|[1.29161412747016...|[0.50003229035314...|       0.0|\n",
      "|\"cnasape\"| 15|[link, daily, mai...|   15|        1|(1024,[391,499,52...|[1.29161412747016...|[0.50003229035314...|       0.0|\n",
      "|\"cnasar4\"|-31|              [sure]|  -31|        1| (1024,[1005],[1.0])|[1.29161412747016...|[0.50003229035314...|       0.0|\n",
      "|\"cnasard\"| 34|[jesus, fucking, ...|   34|        1|(1024,[146,603,62...|[1.29161412747016...|[0.50003229035314...|       0.0|\n",
      "|\"cnasasi\"| 12|[says, verbiage, ...|   12|        1|(1024,[34,550,588...|[1.29161412747016...|[0.50003229035314...|       0.0|\n",
      "|\"cnasasl\"| 22|[city, names, htt...|   22|        1|(1024,[167,329,47...|[1.29161412747016...|[0.50003229035314...|       0.0|\n",
      "|\"cnasat0\"| 13|[likes, won, admi...|   13|        1|(1024,[518,542,73...|[1.29161412747016...|[0.50003229035314...|       0.0|\n",
      "|\"cnasay5\"| 31|[meth, lab, nice,...|   31|        1|(1024,[87,741,842...|[1.29161412747016...|[0.50003229035314...|       0.0|\n",
      "|\"cnasazf\"| 17|[cons, injuries, ...|   17|        1|(1024,[259,442,61...|[1.29161412747016...|[0.50003229035314...|       0.0|\n",
      "|\"cnasb3a\"|-14|    [crushing, blow]|  -14|        1|(1024,[433,470],[...|[1.29161412747016...|[0.50003229035314...|       0.0|\n",
      "|\"cnasb8z\"| 16|                [ah]|   16|        1|  (1024,[966],[1.0])|[1.29161412747016...|[0.50003229035314...|       0.0|\n",
      "|\"cnasba6\"| 28|[big, fan, waist,...|   28|        1|(1024,[310,418,59...|[1.29161412747016...|[0.50003229035314...|       0.0|\n",
      "|\"cnasbb0\"| 19|[transparent, att...|   19|        1|(1024,[95,176,419...|[1.29161412747016...|[0.50003229035314...|       0.0|\n",
      "|\"cnasbda\"| 14|[gt, tony, romo, ...|   14|        1|(1024,[101,384,39...|[1.29161412747016...|[0.50003229035314...|       0.0|\n",
      "|\"cnasbe0\"| 22|[either, spurs, o...|   22|        1|(1024,[629,860,90...|[1.29161412747016...|[0.50003229035314...|       0.0|\n",
      "|\"cnasbg8\"| 11|[dare, ridiculous...|   11|        1|(1024,[37,46,111,...|[1.29161412747016...|[0.50003229035314...|       0.0|\n",
      "|\"cnasbir\"| 37|[exactly, mean, t...|   37|        1|(1024,[51,122,131...|[1.29161412747016...|[0.50003229035314...|       0.0|\n",
      "|\"cnasbjm\"|529|[anyone, else, he...|  529|        1|(1024,[326,493,55...|[1.29161412747016...|[0.50003229035314...|       0.0|\n",
      "|\"cnasbjs\"| 14|              [well]|   14|        1|  (1024,[557],[1.0])|[1.29161412747016...|[0.50003229035314...|       0.0|\n",
      "|\"cnasbkj\"| 15|[want, nypd, go, ...|   15|        1|(1024,[169,238,26...|[1.29161412747016...|[0.50003229035314...|       0.0|\n",
      "|\"cnasblr\"| 13|[japan, korea, sh...|   13|        1|(1024,[216,430,45...|[1.29161412747016...|[0.50003229035314...|       0.0|\n",
      "|\"cnasblv\"| 70|[3x50, 150, nedit...|   70|        1|(1024,[7,16,340,4...|[1.29161412747016...|[0.50003229035314...|       0.0|\n",
      "|\"cnasbqy\"| 15|[first, comment, ...|   15|        1|(1024,[191,237,31...|[1.29161412747016...|[0.50003229035314...|       0.0|\n",
      "|\"cnasbvd\"| 32|[tv, part, articl...|   32|        1|(1024,[14,310,612...|[1.29161412747016...|[0.50003229035314...|       0.0|\n",
      "|\"cnasbvh\"| 30|  [big, part, gotta]|   30|        1|(1024,[310,598,61...|[1.29161412747016...|[0.50003229035314...|       0.0|\n",
      "|\"cnasbw9\"| 14|[somehow, groups,...|   14|        1|(1024,[4,30,39,41...|[1.29161412747016...|[0.50003229035314...|       0.0|\n",
      "|\"cnasbxn\"| 26|              [well]|   26|        1|  (1024,[557],[1.0])|[1.29161412747016...|[0.50003229035314...|       0.0|\n",
      "|\"cnasbyx\"| 13|[actually, enjoyi...|   13|        1|(1024,[386,488,51...|[1.29161412747016...|[0.50003229035314...|       0.0|\n",
      "|\"cnasbzd\"| 77|[unpopular, maybe...|   77|        1|(1024,[39,77,88,1...|[1.29161412747016...|[0.50003229035314...|       0.0|\n",
      "|\"cnasc15\"| 16|       [look, great]|   16|        1|(1024,[116,531],[...|[1.29161412747016...|[0.50003229035314...|       0.0|\n",
      "|\"cnasc2h\"| 11|[portfolio, defin...|   11|        1|(1024,[6,205,391,...|[1.29161412747016...|[0.50003229035314...|       0.0|\n",
      "|\"cnasc34\"| 16|[things, less, ac...|   16|        1|(1024,[50,155,264...|[1.29161412747016...|[0.50003229035314...|       0.0|\n",
      "|\"cnasc4a\"| 20|[ah, m, glad, som...|   20|        1|(1024,[478,606,63...|[1.29161412747016...|[0.50003229035314...|       0.0|\n",
      "|\"cnasc7r\"|103|   [wow, go, police]|  103|        1|(1024,[22,234,445...|[1.29161412747016...|[0.50003229035314...|       0.0|\n",
      "|\"cnasc9z\"| 12|[one, favorites, ...|   12|        1|(1024,[73,127,200...|[1.29161412747016...|[0.50003229035314...|       0.0|\n",
      "|\"cnascb3\"|100|[would, like, est...|  100|        1|(1024,[249,259,33...|[1.29161412747016...|[0.50003229035314...|       0.0|\n",
      "|\"cnascb6\"| 20|[lost, re, enacte...|   20|        1|(1024,[59,297,470...|[1.29161412747016...|[0.50003229035314...|       0.0|\n",
      "|\"cnasccu\"| 14|     [top, photo, d]|   14|        1|(1024,[249,797,90...|[1.29161412747016...|[0.50003229035314...|       0.0|\n",
      "|\"cnascgd\"| 31|             [claim]|   31|        1|  (1024,[550],[1.0])|[1.29161412747016...|[0.50003229035314...|       0.0|\n",
      "|\"cnascge\"| 18|[quality, answer,...|   18|        1|(1024,[241,551,56...|[1.29161412747016...|[0.50003229035314...|       0.0|\n",
      "|\"cnascif\"| 19|[things, mike, co...|   19|        1|(1024,[0,102,259,...|[1.29161412747016...|[0.50003229035314...|       0.0|\n",
      "|\"cnasckt\"| 21|                  []|   21|        1|        (1024,[],[])|[1.29161412747016...|[0.50003229035314...|       0.0|\n",
      "|\"cnascmd\"| 15|  [made, back, july]|   15|        1|(1024,[174,496,90...|[1.29161412747016...|[0.50003229035314...|       0.0|\n",
      "|\"cnascmy\"| 23|               [tsm]|   23|        1|  (1024,[555],[1.0])|[1.29161412747016...|[0.50003229035314...|       0.0|\n",
      "|\"cnasco0\"| 15|          [disagree]|   15|        1|  (1024,[448],[1.0])|[1.29161412747016...|[0.50003229035314...|       0.0|\n",
      "|\"cnascp7\"| 16|[understand, supp...|   16|        1|(1024,[46,159,225...|[1.29161412747016...|[0.50003229035314...|       0.0|\n",
      "|\"cnasctb\"| 18|           [memeing]|   18|        1|  (1024,[754],[1.0])|[1.29161412747016...|[0.50003229035314...|       0.0|\n",
      "|\"cnascwr\"|238|[new, cloud, syst...|  238|        1|(1024,[3,68,249,2...|[1.29161412747016...|[0.50003229035314...|       0.0|\n",
      "|\"cnascx9\"|144|[m, sure, tony, h...|  144|        1|(1024,[345,478,65...|[1.29161412747016...|[0.50003229035314...|       0.0|\n",
      "|\"cnascy9\"| 14|[https, store, xb...|   14|        1|(1024,[73,186,199...|[1.29161412747016...|[0.50003229035314...|       0.0|\n",
      "|\"cnasd1b\"| 21|[ll, explain, re,...|   21|        1|(1024,[159,682,97...|[1.29161412747016...|[0.50003229035314...|       0.0|\n",
      "|\"cnasd27\"|-14|[name, country, w...|  -14|        1|(1024,[205,259,30...|[1.29161412747016...|[0.50003229035314...|       0.0|\n",
      "|\"cnasd5t\"| 32|                  []|   32|        1|        (1024,[],[])|[1.29161412747016...|[0.50003229035314...|       0.0|\n",
      "|\"cnasd62\"| 19|         [community]|   19|        1|  (1024,[478],[1.0])|[1.29161412747016...|[0.50003229035314...|       0.0|\n",
      "|\"cnasd96\"| 29|[favorite, match,...|   29|        1|(1024,[51,613,732...|[1.29161412747016...|[0.50003229035314...|       0.0|\n",
      "|\"cnasda6\"| 13|[clue, peyton, co...|   13|        1|(1024,[428,512,73...|[1.29161412747016...|[0.50003229035314...|       0.0|\n",
      "|\"cnasdbs\"| 34|[would, take, lik...|   34|        1|(1024,[28,66,173,...|[1.29161412747016...|[0.50003229035314...|       0.0|\n",
      "|\"cnasdci\"|155|[https, www, yout...|  155|        1|(1024,[165,238,25...|[1.29161412747016...|[0.50003229035314...|       0.0|\n",
      "|\"cnasdd2\"| 11|[remembered, chap...|   11|        1|(1024,[149,337],[...|[1.29161412747016...|[0.50003229035314...|       0.0|\n",
      "|\"cnasdea\"| 16|       [interesting]|   16|        1|  (1024,[813],[1.0])|[1.29161412747016...|[0.50003229035314...|       0.0|\n",
      "|\"cnasdgm\"| 22|[episode, called,...|   22|        1|(1024,[136,358,40...|[1.29161412747016...|[0.50003229035314...|       0.0|\n",
      "|\"cnasdh0\"| 21|[kreygasm, n, nst...|   21|        1|(1024,[30,49,101,...|[1.29161412747016...|[0.50003229035314...|       0.0|\n",
      "|\"cnasdhm\"| 15|           [deleted]|   15|        1|   (1024,[24],[1.0])|[1.29161412747016...|[0.50003229035314...|       0.0|\n",
      "|\"cnasdju\"| 28|      [good, banter]|   28|        1|(1024,[771,792],[...|[1.29161412747016...|[0.50003229035314...|       0.0|\n",
      "|\"cnasdkq\"| 18|[need, accept, ca...|   18|        1|(1024,[14,20,100,...|[1.29161412747016...|[0.50003229035314...|       0.0|\n",
      "|\"cnasdm7\"| 23|[let, settle, lik...|   23|        1|(1024,[185,386,46...|[1.29161412747016...|[0.50003229035314...|       0.0|\n",
      "|\"cnasdmy\"| 11|[confirm, went, w...|   11|        1|(1024,[534,551,73...|[1.29161412747016...|[0.50003229035314...|       0.0|\n",
      "|\"cnasdn3\"| 20|  [fucking, workers]|   20|        1|(1024,[352,624],[...|[1.29161412747016...|[0.50003229035314...|       0.0|\n",
      "|\"cnasdpa\"| 11|        [tape, lawl]|   11|        1|(1024,[59,584],[1...|[1.29161412747016...|[0.50003229035314...|       0.0|\n",
      "|\"cnasds1\"| 11|           [believe]|   11|        1|  (1024,[794],[1.0])|[1.29161412747016...|[0.50003229035314...|       0.0|\n",
      "|\"cnasdsh\"|148|[ezreal, agreemen...|  148|        1|(1024,[24,49,294,...|[1.29161412747016...|[0.50003229035314...|       0.0|\n",
      "|\"cnasdsy\"|-21|[hope, schwartz, ...|  -21|        1|(1024,[3,160,180,...|[1.29161412747016...|[0.50003229035314...|       0.0|\n",
      "|\"cnase2g\"| 22|[could, got, way,...|   22|        1|(1024,[309,444,59...|[1.29161412747016...|[0.50003229035314...|       0.0|\n",
      "|\"cnase37\"| 20|[viola, player, u...|   20|        1|(1024,[189,191,21...|[1.29161412747016...|[0.50003229035314...|       0.0|\n",
      "|\"cnase3l\"| 31|[clicked, wsj, li...|   31|        1|(1024,[101,144,32...|[1.29161412747016...|[0.50003229035314...|       0.0|\n",
      "|\"cnase4j\"| 21|[hold, liquor, si...|   21|        1|(1024,[150,231,31...|[1.29161412747016...|[0.50003229035314...|       0.0|\n",
      "|\"cnase52\"| 54|[someone, respond...|   54|        1|(1024,[339,391,43...|[1.29161412747016...|[0.50003229035314...|       0.0|\n",
      "|\"cnase6x\"|-27|[actually, food, ...|  -27|        1|(1024,[33,204,254...|[1.29161412747016...|[0.50003229035314...|       0.0|\n",
      "+---------+---+--------------------+-----+---------+--------------------+--------------------+--------------------+----------+\n",
      "only showing top 100 rows"
     ]
    }
   ],
   "source": [
    "lrViralpredictions.show(100)"
   ]
  },
  {
   "cell_type": "code",
   "execution_count": null,
   "metadata": {},
   "outputs": [],
   "source": []
  }
 ],
 "metadata": {
  "kernelspec": {
   "display_name": "PySpark",
   "language": "",
   "name": "pysparkkernel"
  },
  "language_info": {
   "codemirror_mode": {
    "name": "python",
    "version": 2
   },
   "mimetype": "text/x-python",
   "name": "pyspark",
   "pygments_lexer": "python2"
  }
 },
 "nbformat": 4,
 "nbformat_minor": 4
}
