{
 "cells": [
  {
   "cell_type": "code",
   "execution_count": 1,
   "metadata": {},
   "outputs": [
    {
     "data": {
      "application/vnd.jupyter.widget-view+json": {
       "model_id": "a9fa456fe22c4ed6aa85d6c72de04bf7",
       "version_major": 2,
       "version_minor": 0
      },
      "text/plain": [
       "VBox()"
      ]
     },
     "metadata": {},
     "output_type": "display_data"
    },
    {
     "name": "stdout",
     "output_type": "stream",
     "text": [
      "Starting Spark application\n"
     ]
    },
    {
     "data": {
      "text/html": [
       "<table>\n",
       "<tr><th>ID</th><th>YARN Application ID</th><th>Kind</th><th>State</th><th>Spark UI</th><th>Driver log</th><th>Current session?</th></tr><tr><td>0</td><td>application_1607373263861_0001</td><td>pyspark</td><td>idle</td><td><a target=\"_blank\" href=\"http://ip-172-31-82-18.ec2.internal:20888/proxy/application_1607373263861_0001/\">Link</a></td><td><a target=\"_blank\" href=\"http://ip-172-31-93-181.ec2.internal:8042/node/containerlogs/container_1607373263861_0001_01_000001/livy\">Link</a></td><td>✔</td></tr></table>"
      ],
      "text/plain": [
       "<IPython.core.display.HTML object>"
      ]
     },
     "metadata": {},
     "output_type": "display_data"
    },
    {
     "data": {
      "application/vnd.jupyter.widget-view+json": {
       "model_id": "",
       "version_major": 2,
       "version_minor": 0
      },
      "text/plain": [
       "FloatProgress(value=0.0, bar_style='info', description='Progress:', layout=Layout(height='25px', width='50%'),…"
      ]
     },
     "metadata": {},
     "output_type": "display_data"
    },
    {
     "name": "stdout",
     "output_type": "stream",
     "text": [
      "SparkSession available as 'spark'.\n"
     ]
    },
    {
     "data": {
      "application/vnd.jupyter.widget-view+json": {
       "model_id": "",
       "version_major": 2,
       "version_minor": 0
      },
      "text/plain": [
       "FloatProgress(value=0.0, bar_style='info', description='Progress:', layout=Layout(height='25px', width='50%'),…"
      ]
     },
     "metadata": {},
     "output_type": "display_data"
    }
   ],
   "source": [
    "from collections import defaultdict\n",
    "import numpy as np\n",
    "from pyspark.ml.linalg import SparseVector\n",
    "from pyspark.sql.functions import explode\n",
    "from pyspark import SparkFiles\n",
    "from pyspark.sql import Row\n",
    "\n",
    "import bz2\n",
    "import json\n",
    "import time\n",
    "from pyspark.ml import Pipeline\n",
    "from pyspark.ml.feature import * # CountVectorizer, Tokenizer, RegexTokenizer, HashingTF\n",
    "from pyspark.ml.regression import * # RandomForestRegressor, LinearRegression, DecisionTreeRegressor\n",
    "from pyspark.ml.evaluation import RegressionEvaluator"
   ]
  },
  {
   "cell_type": "code",
   "execution_count": 2,
   "metadata": {},
   "outputs": [
    {
     "data": {
      "application/vnd.jupyter.widget-view+json": {
       "model_id": "1586e281258c44239d76dc604844222d",
       "version_major": 2,
       "version_minor": 0
      },
      "text/plain": [
       "VBox()"
      ]
     },
     "metadata": {},
     "output_type": "display_data"
    },
    {
     "data": {
      "application/vnd.jupyter.widget-view+json": {
       "model_id": "",
       "version_major": 2,
       "version_minor": 0
      },
      "text/plain": [
       "FloatProgress(value=0.0, bar_style='info', description='Progress:', layout=Layout(height='25px', width='50%'),…"
      ]
     },
     "metadata": {},
     "output_type": "display_data"
    }
   ],
   "source": [
    "def timeit(method):\n",
    "    '''\n",
    "    Decorator to time functions.\n",
    "    '''\n",
    "    def timed(*args, **kw):\n",
    "        ts = time.time()\n",
    "        result = method(*args, **kw)\n",
    "        te = time.time()\n",
    "\n",
    "        print('%r took %2.2f sec\\n' % (method.__name__, te-ts))\n",
    "              \n",
    "        return result\n",
    "    return timed"
   ]
  },
  {
   "cell_type": "code",
   "execution_count": 3,
   "metadata": {},
   "outputs": [
    {
     "data": {
      "application/vnd.jupyter.widget-view+json": {
       "model_id": "1428d3722fa1486386928d757bb66361",
       "version_major": 2,
       "version_minor": 0
      },
      "text/plain": [
       "VBox()"
      ]
     },
     "metadata": {},
     "output_type": "display_data"
    },
    {
     "data": {
      "application/vnd.jupyter.widget-view+json": {
       "model_id": "",
       "version_major": 2,
       "version_minor": 0
      },
      "text/plain": [
       "FloatProgress(value=0.0, bar_style='info', description='Progress:', layout=Layout(height='25px', width='50%'),…"
      ]
     },
     "metadata": {},
     "output_type": "display_data"
    }
   ],
   "source": [
    "import re\n",
    "# DATAFILE_PATTERN = '^(.+),\"(.+)\",(.*),(.*),(.*)'\n",
    "ID_PATTERN = '\"id\":(.*?(?=,|}))'\n",
    "UPS_PATTERN = '\"ups\":(.*?(?=,|}))'\n",
    "BODY_PATTERN = '\"body\":(.*?(?=,|}))'\n",
    "# DOWNS_PATTERN = '\"downs\":(.*?(?=,|}))'\n",
    "SCORE_PATTERN = '\"score\":(.*?(?=,|}))'\n",
    "# CONTROVERSIALITY_PATTERN = '\"controversiality\":(.*?(?=,|}))'\n",
    "\n",
    "def removeQuotes(s):\n",
    "    \"\"\" Remove quotation marks from an input string\n",
    "    Args:\n",
    "        s (str): input string that might have the quote \"\" characters\n",
    "    Returns:\n",
    "        str: a string without the quote characters\n",
    "    \"\"\"\n",
    "    return ''.join(i for i in s if i!='\"')\n",
    "\n",
    "def parseDatafileLine(datafileLine):\n",
    "    \"\"\" Parse a line of the data file using the specified regular expression pattern\n",
    "    Args:\n",
    "        datafileLine (str): input string that is a line from the data file\n",
    "    Returns:\n",
    "        tuple: a tuple including the parsed results using the given regular expression and without the quote characters\n",
    "    \"\"\"\n",
    "    id_match = re.search(ID_PATTERN, datafileLine.decode('utf-8'))\n",
    "    ups_match = re.search(UPS_PATTERN, datafileLine.decode('utf-8'))\n",
    "    body_match = re.search(BODY_PATTERN, datafileLine.decode('utf-8'))\n",
    "    score_match = re.search(SCORE_PATTERN, datafileLine.decode('utf-8'))\n",
    "    \n",
    "    if (id_match is None) or (ups_match is None) or (body_match is None) or (score_match is None):\n",
    "        print('Invalid datafile line: %s' % datafileLine)\n",
    "        return (datafileLine, -1)\n",
    "    else:\n",
    "        viralness = 0\n",
    "        if int(score_match.group(1)) < -10 or int(score_match.group(1)) > 10:\n",
    "            viralness = 1\n",
    "        comment = (id_match.group(1), int(ups_match.group(1)), removeQuotes(body_match.group(1)), int(score_match.group(1)), viralness)\n",
    "        return (comment, 1)"
   ]
  },
  {
   "cell_type": "code",
   "execution_count": 5,
   "metadata": {},
   "outputs": [
    {
     "data": {
      "application/vnd.jupyter.widget-view+json": {
       "model_id": "c8da7ca4a65e4107bc2b49698179f933",
       "version_major": 2,
       "version_minor": 0
      },
      "text/plain": [
       "VBox()"
      ]
     },
     "metadata": {},
     "output_type": "display_data"
    },
    {
     "data": {
      "application/vnd.jupyter.widget-view+json": {
       "model_id": "",
       "version_major": 2,
       "version_minor": 0
      },
      "text/plain": [
       "FloatProgress(value=0.0, bar_style='info', description='Progress:', layout=Layout(height='25px', width='50%'),…"
      ]
     },
     "metadata": {},
     "output_type": "display_data"
    },
    {
     "name": "stdout",
     "output_type": "stream",
     "text": [
      "145084211\n",
      "s3://dsml-vasu-simar-daniel/RC_2015-0* - Read 156758730 lines, successfully parsed 147697364 lines, failed to parse 0 lines, 9061366 lines were deleted, 11674519 lines were viral, 145084211 lines were non-viral, 23346486 viral and non-viral lines were returned\n",
      "'loadData' took 238.10 sec"
     ]
    }
   ],
   "source": [
    "import sys\n",
    "import os\n",
    "from pyspark import SparkFiles\n",
    "\n",
    "#RC_PATH = '/FileStore/shared_uploads/ddk1@andrew.cmu.edu/RC_2007_10'\n",
    "RC_PATH = 's3://dsml-vasu-simar-daniel/RC_2015-0*'\n",
    "\n",
    "def parseData(path):\n",
    "    \"\"\" Parse a data file\n",
    "    Args:\n",
    "        filename (str): input file name of the data file\n",
    "    Returns:\n",
    "        RDD: a RDD of parsed lines\n",
    "    \"\"\"\n",
    "#     sc.addFile(path)\n",
    "    return (sc\n",
    "            .textFile(path, 4, 0)\n",
    "            .map(parseDatafileLine)\n",
    "            .cache())\n",
    "@timeit\n",
    "def loadData(path):\n",
    "    \"\"\" Load a data file\n",
    "    Args:\n",
    "        path (str): input file name of the data file\n",
    "    Returns:\n",
    "        RDD: a RDD of parsed valid lines\n",
    "    \"\"\"\n",
    "\n",
    "    raw = parseData(path).cache()\n",
    "    \n",
    "    failed = (raw\n",
    "              .filter(lambda s: s[1] == -1)\n",
    "              .map(lambda s: s[0]))\n",
    "    for line in failed.take(10):\n",
    "        print('%s - Invalid datafile line: %s' % (path, line))\n",
    "    \n",
    "    deleted = (raw\n",
    "             .filter(lambda s: s[0][2] == '[deleted]')\n",
    "             .map(lambda s: s[0]))\n",
    "    \n",
    "    valid = (raw\n",
    "             .filter(lambda s: s[1] == 1)\n",
    "             .filter(lambda s: s[0][2] != '[deleted]')\n",
    "             .map(lambda s: s[0])\n",
    "             .cache())\n",
    "   \n",
    "    viral = (raw\n",
    "             .filter(lambda s: s[1] == 1)\n",
    "             .filter(lambda s: s[0][4] == 1)\n",
    "             .map(lambda s: s[0])\n",
    "             .cache())\n",
    "    nonviral = (raw\n",
    "               .filter(lambda s: s[1] == 1)\n",
    "               .filter(lambda s: s[0][4] == 0)\n",
    "               .map(lambda s: s[0])\n",
    "               .cache())\n",
    "    nonviral_cut = nonviral.sample(False, viral.count()/nonviral.count())\n",
    "    print(nonviral.count())\n",
    "    nonviral_cut.take(10)\n",
    "    viral_nonviral_cut = viral.union(nonviral_cut)\n",
    "    viral_nonviral_cut.take(10)\n",
    "    \n",
    "    print('%s - Read %d lines, successfully parsed %d lines, failed to parse %d lines, %d lines were deleted, %d lines were viral, %d lines were non-viral, %d viral and non-viral lines were returned' % (path,\n",
    "                                                                                                                                                                                                 raw.count(),\n",
    "                                                                                                                                                                                                 valid.count(),\n",
    "                                                                                                                                                                                                 failed.count(),\n",
    "                                                                                                                                                                                                 deleted.count(),\n",
    "                                                                                                                                                                                                 viral.count(),\n",
    "                                                                                                                                                                                                 nonviral.count(),\n",
    "                                                                                                                                                                                                 viral_nonviral_cut.count()))                                                  \n",
    "    return viral_nonviral_cut\n",
    "\n",
    "reddit = loadData(RC_PATH)"
   ]
  },
  {
   "cell_type": "code",
   "execution_count": 6,
   "metadata": {},
   "outputs": [
    {
     "data": {
      "application/vnd.jupyter.widget-view+json": {
       "model_id": "39637d4b2b5b476cbe001f8b1050b6f9",
       "version_major": 2,
       "version_minor": 0
      },
      "text/plain": [
       "VBox()"
      ]
     },
     "metadata": {},
     "output_type": "display_data"
    },
    {
     "data": {
      "application/vnd.jupyter.widget-view+json": {
       "model_id": "",
       "version_major": 2,
       "version_minor": 0
      },
      "text/plain": [
       "FloatProgress(value=0.0, bar_style='info', description='Progress:', layout=Layout(height='25px', width='50%'),…"
      ]
     },
     "metadata": {},
     "output_type": "display_data"
    },
    {
     "name": "stdout",
     "output_type": "stream",
     "text": [
      "+---------+---+--------------------+-----+---------+\n",
      "|       id|ups|                body|score|viralness|\n",
      "+---------+---+--------------------+-----+---------+\n",
      "|\"cnas8zv\"| 14|Most of us have s...|   14|        1|\n",
      "|\"cnas90g\"| 17|&gt;&gt;If a woma...|   17|        1|\n",
      "|\"cnas91f\"| 19|Made a multiscree...|   19|        1|\n",
      "|\"cnas91m\"| 41|A lot of disrespe...|   41|        1|\n",
      "|\"cnas91w\"| 14|You hear that SDS...|   14|        1|\n",
      "+---------+---+--------------------+-----+---------+\n",
      "only showing top 5 rows"
     ]
    }
   ],
   "source": [
    "sentenceDF = reddit.toDF().selectExpr(\"_1 as id\", \"_2 as ups\", \"_3 as body\", \"_4 as score\", \"_5 as viralness\")\n",
    "sentenceDF.show(n=5)"
   ]
  },
  {
   "cell_type": "code",
   "execution_count": 7,
   "metadata": {},
   "outputs": [
    {
     "data": {
      "application/vnd.jupyter.widget-view+json": {
       "model_id": "e8cb9c0ee1c64b5eba82f86a9ee8eca3",
       "version_major": 2,
       "version_minor": 0
      },
      "text/plain": [
       "VBox()"
      ]
     },
     "metadata": {},
     "output_type": "display_data"
    },
    {
     "data": {
      "application/vnd.jupyter.widget-view+json": {
       "model_id": "",
       "version_major": 2,
       "version_minor": 0
      },
      "text/plain": [
       "FloatProgress(value=0.0, bar_style='info', description='Progress:', layout=Layout(height='25px', width='50%'),…"
      ]
     },
     "metadata": {},
     "output_type": "display_data"
    }
   ],
   "source": [
    "split_regex = r'\\W+'\n",
    "linebreak_regex = r'\\\\r\\\\n\\\\r\\\\n'\n",
    "\n",
    "def simpleTokenize(string):\n",
    "    \"\"\" A simple implementation of input string tokenization\n",
    "    Args:\n",
    "        string (str): input string\n",
    "    Returns:\n",
    "        list: a list of tokens\n",
    "    \"\"\"\n",
    "    linebreak_removed_string = re.sub(linebreak_regex, \" \", string)\n",
    "    return list(filter(None, re.split(split_regex, linebreak_removed_string.lower())))"
   ]
  },
  {
   "cell_type": "code",
   "execution_count": 8,
   "metadata": {},
   "outputs": [
    {
     "data": {
      "application/vnd.jupyter.widget-view+json": {
       "model_id": "53ce999118584466ae327998ef585844",
       "version_major": 2,
       "version_minor": 0
      },
      "text/plain": [
       "VBox()"
      ]
     },
     "metadata": {},
     "output_type": "display_data"
    },
    {
     "data": {
      "application/vnd.jupyter.widget-view+json": {
       "model_id": "",
       "version_major": 2,
       "version_minor": 0
      },
      "text/plain": [
       "FloatProgress(value=0.0, bar_style='info', description='Progress:', layout=Layout(height='25px', width='50%'),…"
      ]
     },
     "metadata": {},
     "output_type": "display_data"
    },
    {
     "name": "stdout",
     "output_type": "stream",
     "text": [
      "These are the stopwords: {'out', 'we', 'was', 'how', 'myself', 'for', 'they', 'about', 'then', 'both', 'so', 'don', 'as', 'any', 'after', 'you', 'why', 'been', 'where', 'by', 'yourself', 'a', 'did', 'their', 'doing', 'be', 'further', 'ours', 'now', 'am', 'her', 'yourselves', 'that', 'what', 'my', 'to', 'not', 'own', 'there', 'this', 'each', 'all', 'more', 'me', 'which', 'himself', 'nor', 'other', 'who', 'same', 'at', 'such', 't', 'up', 'than', 'can', 'too', 'these', 'while', 'before', 'ourselves', 'he', 'i', 'our', 'its', 'but', 'with', 'because', 'those', 'the', 'it', 'hers', 'just', 'over', 'between', 'had', 'does', 'have', 'and', 'some', 'or', 'only', 'when', 'below', 'in', 'if', 'theirs', 'again', 'his', 'whom', 'above', 'should', 'itself', 'themselves', 'until', 'are', 'she', 'will', 'from', 'into', 'no', 'your', 'few', 'herself', 'of', 'has', 'down', 'were', 'once', 'having', 'them', 'under', 'him', 'do', 'on', 'an', 'yours', 'being', 'off', 'very', 'through', 'most', 'against', 'here', 'is', 's', 'during'}"
     ]
    }
   ],
   "source": [
    "stopwords = set(sc.textFile(\"s3://dsml-vasu-simar-daniel/stopwords.txt\").collect())\n",
    "print('These are the stopwords: %s' % stopwords)\n",
    "\n",
    "def tokenize(string):\n",
    "    \"\"\" An implementation of input string tokenization that excludes stopwords\n",
    "    Args:\n",
    "        string (str): input string\n",
    "    Returns:\n",
    "        list: a list of tokens without stopwords\n",
    "    \"\"\"\n",
    "    return list(filter(lambda word: word not in stopwords,simpleTokenize(string)))"
   ]
  },
  {
   "cell_type": "code",
   "execution_count": 9,
   "metadata": {},
   "outputs": [
    {
     "data": {
      "application/vnd.jupyter.widget-view+json": {
       "model_id": "a64eecceafac4691a04df4e33201fdf1",
       "version_major": 2,
       "version_minor": 0
      },
      "text/plain": [
       "VBox()"
      ]
     },
     "metadata": {},
     "output_type": "display_data"
    },
    {
     "data": {
      "application/vnd.jupyter.widget-view+json": {
       "model_id": "",
       "version_major": 2,
       "version_minor": 0
      },
      "text/plain": [
       "FloatProgress(value=0.0, bar_style='info', description='Progress:', layout=Layout(height='25px', width='50%'),…"
      ]
     },
     "metadata": {},
     "output_type": "display_data"
    },
    {
     "name": "stdout",
     "output_type": "stream",
     "text": [
      "[('\"cnas8zv\"', 14, ['us', 'family', 'members', 'like', 'family', 'like'], 14, 1), ('\"cnas90g\"', 17, ['gt', 'gt', 'woman', 'wants', 'give', 'child', 'adoption', 'named', 'father'], 17, 1), ('\"cnas91f\"', 19, ['made', 'multiscreen', 'video', 'sony', 'vegas', 'converted', 'webm'], 19, 1), ('\"cnas91m\"', 41, ['lot', 'disrespecting', 'league', 'today', 'think', 'll', 'eventually', 'need', 'see', 'garber', 'publicly', 'reprimanding', 'nycfc', 'ownership', 'group', 'doubt', 'would', 'happen', 'though'], 41, 1), ('\"cnas91w\"', 14, ['hear', 'sdss', 'j122952', '66', '112227', '8', 'heard', 'talking', 'shit', 're', 'coming', 'ya'], 14, 1)]\n",
      "There are 210118374 tokens in the combined datasets"
     ]
    }
   ],
   "source": [
    "redditRecToToken = reddit.map(lambda line: (line[0], line[1], tokenize(line[2]),line[3], line[4]))\n",
    "\n",
    "print(redditRecToToken.take(5))\n",
    "\n",
    "def countTokens(vendorRDD):\n",
    "    \"\"\" Count and return the number of tokens\n",
    "    Args:\n",
    "        vendorRDD (RDD of (recordId, tokenizedValue)): Pair tuple of record ID to tokenized output\n",
    "    Returns:\n",
    "        count: count of all tokens\n",
    "    \"\"\"\n",
    "    # TODO: Uncomment the template below and replace <FILL IN> with appropriate code\n",
    "    recordCount = vendorRDD.map(lambda line: len(line[0]))\n",
    "    recordSum = recordCount.sum()\n",
    "    return recordSum\n",
    "\n",
    "totalTokens = countTokens(redditRecToToken)\n",
    "print('There are %s tokens in the combined datasets' % totalTokens)"
   ]
  },
  {
   "cell_type": "code",
   "execution_count": 10,
   "metadata": {},
   "outputs": [
    {
     "data": {
      "application/vnd.jupyter.widget-view+json": {
       "model_id": "5287313fb69b49568f6a0c2ae36dcc9e",
       "version_major": 2,
       "version_minor": 0
      },
      "text/plain": [
       "VBox()"
      ]
     },
     "metadata": {},
     "output_type": "display_data"
    },
    {
     "data": {
      "application/vnd.jupyter.widget-view+json": {
       "model_id": "",
       "version_major": 2,
       "version_minor": 0
      },
      "text/plain": [
       "FloatProgress(value=0.0, bar_style='info', description='Progress:', layout=Layout(height='25px', width='50%'),…"
      ]
     },
     "metadata": {},
     "output_type": "display_data"
    }
   ],
   "source": [
    "@timeit\n",
    "def term_frequency(df, inputCol, outputCol, hashFeatures=None):\n",
    "    '''\n",
    "    Returns a DataFrame object containing a new row with the extracted features. \n",
    "    Passing hashed=True will return a Featured Hashed matrix.\n",
    "    \n",
    "    @params:\n",
    "        df - DataFrame\n",
    "        inputCol - name of input column from DataFrame to find features\n",
    "        outputCol - name of the column to save the features\n",
    "        hashFeatures - number of features for HashingTF, if None will perform \n",
    "            CountVectorization\n",
    "    '''\n",
    "    \n",
    "    # since the number of features was not passed perform standard CountVectorization\n",
    "    if hashFeatures is None:\n",
    "        cv = CountVectorizer(inputCol=inputCol, outputCol=outputCol)\n",
    "        feature_extractor = cv.fit(df)\n",
    "    # otherwise perform a feature extractor with \n",
    "    else:\n",
    "        feature_extractor = HashingTF(\\\n",
    "                              inputCol=inputCol, outputCol=outputCol, numFeatures=hashFeatures)\n",
    "    \n",
    "    # create a new DataFrame using either feature extraction method\n",
    "    return feature_extractor.transform(df)"
   ]
  },
  {
   "cell_type": "code",
   "execution_count": 11,
   "metadata": {},
   "outputs": [
    {
     "data": {
      "application/vnd.jupyter.widget-view+json": {
       "model_id": "746f86457ccd49209cb8751fd1d2a5eb",
       "version_major": 2,
       "version_minor": 0
      },
      "text/plain": [
       "VBox()"
      ]
     },
     "metadata": {},
     "output_type": "display_data"
    },
    {
     "data": {
      "application/vnd.jupyter.widget-view+json": {
       "model_id": "",
       "version_major": 2,
       "version_minor": 0
      },
      "text/plain": [
       "FloatProgress(value=0.0, bar_style='info', description='Progress:', layout=Layout(height='25px', width='50%'),…"
      ]
     },
     "metadata": {},
     "output_type": "display_data"
    },
    {
     "name": "stdout",
     "output_type": "stream",
     "text": [
      "'term_frequency' took 0.31 sec\n",
      "\n",
      "+--------------------+--------------------+\n",
      "|      filtered_words|            features|\n",
      "+--------------------+--------------------+\n",
      "|[us, family, memb...|(2048,[455,929,13...|\n",
      "|[gt, gt, woman, w...|(2048,[159,782,80...|\n",
      "|[made, multiscree...|(2048,[15,474,689...|\n",
      "|[lot, disrespecti...|(2048,[85,159,396...|\n",
      "|[hear, sdss, j122...|(2048,[122,340,58...|\n",
      "+--------------------+--------------------+\n",
      "only showing top 5 rows"
     ]
    }
   ],
   "source": [
    "wordsFilteredDF = spark.createDataFrame(redditRecToToken).toDF(\"id\", \"ups\", \"filtered_words\", \"score\", \"viralness\")\n",
    "\n",
    "# Feature Hash the comment content\n",
    "# number of features for Feature Hash matrix, reccomended too use power of 2\n",
    "hashDF = term_frequency(\\\n",
    "    df=wordsFilteredDF, inputCol=\"filtered_words\", outputCol=\"features\", hashFeatures=2048)\n",
    "\n",
    "# Display snippet of new DataFrame\n",
    "hashDF.select('filtered_words','features').show(5)"
   ]
  },
  {
   "cell_type": "code",
   "execution_count": 12,
   "metadata": {},
   "outputs": [
    {
     "data": {
      "application/vnd.jupyter.widget-view+json": {
       "model_id": "7e07d5e742634d76906e7cdee44d42c3",
       "version_major": 2,
       "version_minor": 0
      },
      "text/plain": [
       "VBox()"
      ]
     },
     "metadata": {},
     "output_type": "display_data"
    },
    {
     "data": {
      "application/vnd.jupyter.widget-view+json": {
       "model_id": "",
       "version_major": 2,
       "version_minor": 0
      },
      "text/plain": [
       "FloatProgress(value=0.0, bar_style='info', description='Progress:', layout=Layout(height='25px', width='50%'),…"
      ]
     },
     "metadata": {},
     "output_type": "display_data"
    }
   ],
   "source": [
    "@timeit\n",
    "def random_forest_regression(df, featuresCol, labelCol):\n",
    "    '''\n",
    "    Returns a DataFrame containing a column of predicted values of the labelCol.\n",
    "    Predict the output of labelCol using values in featuresCol y = rf(x).\n",
    "    \n",
    "    @params:\n",
    "        df - DataFrame\n",
    "        featuresCol - input features, x\n",
    "        labelCol - output variable, y\n",
    "    '''\n",
    "    # split the training and test data using the holdout method\n",
    "    (trainingData, testData) = df.randomSplit([0.8, 0.2])\n",
    "    \n",
    "    # create the random forest regressor, limit number of trees to ten\n",
    "    dtr = RandomForestRegressor(\\\n",
    "       featuresCol=featuresCol, labelCol=labelCol)\n",
    "    \n",
    "    # fit the training data to the regressor to create the model\n",
    "    model = dtr.fit(trainingData)\n",
    "    \n",
    "    # create a DataFrame contained a column with predicted values of the labelCol\n",
    "    predictions = model.transform(testData)\n",
    "    \n",
    "    return predictions"
   ]
  },
  {
   "cell_type": "code",
   "execution_count": 13,
   "metadata": {},
   "outputs": [
    {
     "data": {
      "application/vnd.jupyter.widget-view+json": {
       "model_id": "749b44e7d7c0485cbe5390a746194f75",
       "version_major": 2,
       "version_minor": 0
      },
      "text/plain": [
       "VBox()"
      ]
     },
     "metadata": {},
     "output_type": "display_data"
    },
    {
     "data": {
      "application/vnd.jupyter.widget-view+json": {
       "model_id": "",
       "version_major": 2,
       "version_minor": 0
      },
      "text/plain": [
       "FloatProgress(value=0.0, bar_style='info', description='Progress:', layout=Layout(height='25px', width='50%'),…"
      ]
     },
     "metadata": {},
     "output_type": "display_data"
    },
    {
     "name": "stdout",
     "output_type": "stream",
     "text": [
      "'random_forest_regression' took 648.53 sec\n",
      "\n",
      "Root Mean Squared Error (RMSE) on test data = 0.495928"
     ]
    }
   ],
   "source": [
    "# train random forest regression\n",
    "rfpredictions = random_forest_regression(df=hashDF,featuresCol=\"features\",labelCol=\"viralness\")\n",
    "\n",
    "# compute the error\n",
    "evaluator = RegressionEvaluator(labelCol=\"viralness\", predictionCol=\"prediction\", metricName=\"rmse\")\n",
    "rmse = evaluator.evaluate(rfpredictions)\n",
    "print(\"Root Mean Squared Error (RMSE) on test data = %g\" % rmse)"
   ]
  },
  {
   "cell_type": "code",
   "execution_count": 14,
   "metadata": {},
   "outputs": [
    {
     "data": {
      "application/vnd.jupyter.widget-view+json": {
       "model_id": "8a481896ffa34f43b4e14717b292f285",
       "version_major": 2,
       "version_minor": 0
      },
      "text/plain": [
       "VBox()"
      ]
     },
     "metadata": {},
     "output_type": "display_data"
    },
    {
     "data": {
      "application/vnd.jupyter.widget-view+json": {
       "model_id": "",
       "version_major": 2,
       "version_minor": 0
      },
      "text/plain": [
       "FloatProgress(value=0.0, bar_style='info', description='Progress:', layout=Layout(height='25px', width='50%'),…"
      ]
     },
     "metadata": {},
     "output_type": "display_data"
    },
    {
     "name": "stdout",
     "output_type": "stream",
     "text": [
      "+---------+---+--------------------+-----+---------+--------------------+-------------------+\n",
      "|       id|ups|      filtered_words|score|viralness|            features|         prediction|\n",
      "+---------+---+--------------------+-----+---------+--------------------+-------------------+\n",
      "|\"cnas90g\"| 17|[gt, gt, woman, w...|   17|        1|(2048,[159,782,80...|  0.557443813240796|\n",
      "|\"cnas91w\"| 14|[hear, sdss, j122...|   14|        1|(2048,[122,340,58...| 0.5194807409847766|\n",
      "|\"cnas953\"| 24|[league, cup, con...|   24|        1|(2048,[213,758,90...| 0.5043114595821483|\n",
      "|\"cnas97r\"| 17|[unpopular, opinion]|   17|        1|(2048,[298,636],[...| 0.5043114595821483|\n",
      "|\"cnas989\"| 14|                  []|   14|        1|        (2048,[],[])| 0.5043114595821483|\n",
      "|\"cnas98l\"| 13|[really, strange,...|   13|        1|(2048,[14,526,180...| 0.5043114595821483|\n",
      "|\"cnas98y\"| 13|          [fairness]|   13|        1|  (2048,[260],[1.0])| 0.5043114595821483|\n",
      "|\"cnas9bm\"| 26|        [holy, shit]|   26|        1|(2048,[588,625],[...| 0.5194807409847766|\n",
      "|\"cnas9cx\"| 12|             [point]|   12|        1|  (2048,[566],[1.0])| 0.5043114595821483|\n",
      "|\"cnas9d3\"| 21|[would, even, pos...|   21|        1|(2048,[329,472,88...| 0.5043114595821483|\n",
      "|\"cnas9ju\"|277|[think, unpopular...|  277|        1|(2048,[298,396,13...| 0.5043114595821483|\n",
      "|\"cnas9jz\"| 17| [let, make, happen]|   17|        1|(2048,[700,862,16...| 0.5043114595821483|\n",
      "|\"cnas9ky\"| 17|          [actually]|   17|        1| (2048,[1903],[1.0])| 0.5043114595821483|\n",
      "|\"cnas9m1\"| 12|[young, child, di...|   12|        1|(2048,[159,808,17...| 0.5043114595821483|\n",
      "|\"cnas9nt\"| 21|[let, sugar, repr...|   21|        1|(2048,[164,693,70...| 0.5043114595821483|\n",
      "|\"cnas9qm\"| 15|    [god, damn, job]|   15|        1|(2048,[870,1886,2...| 0.5043114595821483|\n",
      "|\"cnas9r5\"| 12|[love, play, last...|   12|        1|(2048,[29,46,112,...| 0.5043114595821483|\n",
      "|\"cnas9tz\"| 49|[fine, dude, n, n...|   49|        1|(2048,[40,140,150...| 0.5350520669357915|\n",
      "|\"cnas9y6\"| 13|[backers, downloa...|   13|        1|(2048,[165,187,32...| 0.5193256011746887|\n",
      "|\"cnasa3a\"| 11|[dad, turns, phon...|   11|        1|(2048,[46,299,344...| 0.5043114595821483|\n",
      "|\"cnasa68\"|-21|[dont, mean, soun...|  -21|        1|(2048,[599,637,78...| 0.5043114595821483|\n",
      "|\"cnasa6r\"| 27|[svrely, yov, mea...|   27|        1|(2048,[475,637,92...| 0.5043114595821483|\n",
      "|\"cnasa7q\"| 19|    [mean, whatever]|   19|        1|(2048,[637,1103],...| 0.5043114595821483|\n",
      "|\"cnasaew\"|164|[feels, little, w...|  164|        1|(2048,[158,364,44...| 0.5043114595821483|\n",
      "|\"cnasagd\"| 18|[re, gonna, prote...|   18|        1|(2048,[531,985,10...| 0.5043114595821483|\n",
      "|\"cnasaqz\"| 15|[ssshhhhhh, n, ns...|   15|        1|(2048,[42,391,641...| 0.5193256011746887|\n",
      "|\"cnasay5\"| 31|[meth, lab, nice,...|   31|        1|(2048,[87,741,186...| 0.5043114595821483|\n",
      "|\"cnasayg\"| 11|[hot, n, ntag, ns...|   11|        1|(2048,[391,1353,1...| 0.5193256011746887|\n",
      "|\"cnasaz7\"| 25|          [stardust]|   25|        1| (2048,[1807],[1.0])| 0.5043114595821483|\n",
      "|\"cnasb17\"| 19|[wait, nebby, get...|   19|        1|(2048,[463,515,56...| 0.5043114595821483|\n",
      "|\"cnasb26\"|-12|           [deleted]|  -12|        1| (2048,[1048],[1.0])| 0.3390410516946547|\n",
      "|\"cnasb59\"| 29|[woman, doesn, ne...|   29|        1|(2048,[169,342,39...| 0.5113488870569426|\n",
      "|\"cnasb68\"| 57|[skeleton, key, s...|   57|        1|(2048,[387,388,15...| 0.5043114595821483|\n",
      "|\"cnasb8z\"| 16|                [ah]|   16|        1| (2048,[1990],[1.0])| 0.5043114595821483|\n",
      "|\"cnasb9p\"| 15|[fast, food, work...|   15|        1|(2048,[116,301,35...| 0.5043114595821483|\n",
      "|\"cnasbb0\"| 19|[transparent, att...|   19|        1|(2048,[95,531,120...| 0.5043114595821483|\n",
      "|\"cnasbed\"| 16|[felt, like, maki...|   16|        1|(2048,[265,344,52...|  0.648182841848103|\n",
      "|\"cnasbi9\"| 24|[2000, rocky, bal...|   24|        1|(2048,[4,151,176,...| 0.5043114595821483|\n",
      "|\"cnasbjq\"| 15|                [ok]|   15|        1| (2048,[1684],[1.0])| 0.5043114595821483|\n",
      "|\"cnasblv\"| 70|[3x50, 150, nedit...|   70|        1|(2048,[340,534,88...|  0.510624776787626|\n",
      "|\"cnasbn5\"| 14|[feel, like, woul...|   14|        1|(2048,[72,459,790...| 0.5043114595821483|\n",
      "|\"cnasbph\"| 27|[118, lb, male, g...|   27|        1|(2048,[51,721,725...| 0.5043114595821483|\n",
      "|\"cnasbqy\"| 15|[first, comment, ...|   15|        1|(2048,[191,237,31...|  0.542803091103799|\n",
      "|\"cnasbsw\"| 20|                  []|   20|        1|        (2048,[],[])| 0.5043114595821483|\n",
      "|\"cnasbsz\"| 35|[3, minute, web, ...|   35|        1|(2048,[89,131,210...| 0.5328647128163323|\n",
      "|\"cnasbtq\"| 11|[many, involve, s...|   11|        1|(2048,[1149,1332,...| 0.5043114595821483|\n",
      "|\"cnasbva\"| 25|[dumb, console, d...|   25|        1|(2048,[1450,1748,...| 0.5043114595821483|\n",
      "|\"cnasbwe\"| 67|[gif, might, look...|   67|        1|(2048,[215,216,28...| 0.5261717593670496|\n",
      "|\"cnasbzd\"| 77|[unpopular, maybe...|   77|        1|(2048,[190,298,31...| 0.5043114595821483|\n",
      "|\"cnasc15\"| 16|       [look, great]|   16|        1|(2048,[531,1140],...| 0.5043114595821483|\n",
      "|\"cnasc4v\"| 13|[repo, oh, shit, ...|   13|        1|(2048,[28,384,391...|0.48206665511501445|\n",
      "|\"cnasc58\"| 13|[derek, fisher, t...|   13|        1|(2048,[482,1359,1...| 0.5043114595821483|\n",
      "|\"cnascb3\"|100|[would, like, est...|  100|        1|(2048,[360,1273,1...| 0.5043114595821483|\n",
      "|\"cnasccg\"| 17|[thought, guy, is...|   17|        1|(2048,[277,352,69...| 0.5087846714601406|\n",
      "|\"cnasccq\"| 29|[nom, nom, nom, n...|   29|        1|(2048,[232,391,75...| 0.5193256011746887|\n",
      "|\"cnascd1\"| 13|[nwell, definitel...|   13|        1|(2048,[391,940,16...| 0.5193256011746887|\n",
      "|\"cnascdr\"| 15|              [hell]|   15|        1| (2048,[1649],[1.0])| 0.5043114595821483|\n",
      "|\"cnascfz\"| 29|[inquisitor, woma...|   29|        1|(2048,[1183,1520,...| 0.5113488870569426|\n",
      "|\"cnascge\"| 18|[quality, answer,...|   18|        1|(2048,[643,1009,1...| 0.5043114595821483|\n",
      "|\"cnascif\"| 19|[things, mike, co...|   19|        1|(2048,[445,1024,1...| 0.5043114595821483|\n",
      "|\"cnascm9\"| 15|[hell, feeding, t...|   15|        1|(2048,[693,1003,1...| 0.5043114595821483|\n",
      "|\"cnasco0\"| 15|          [disagree]|   15|        1| (2048,[1472],[1.0])| 0.5043114595821483|\n",
      "|\"cnascq4\"| 57|[prediction, n, n...|   57|        1|(2048,[391,613,13...| 0.5193256011746887|\n",
      "|\"cnascqd\"| 60|[8, 10, reduces, ...|   60|        1|(2048,[391,461,65...| 0.5193256011746887|\n",
      "|\"cnascqy\"| 12|               [sec]|   12|        1|  (2048,[177],[1.0])| 0.5043114595821483|\n",
      "|\"cnascsj\"| 15|    [cow, going, ok]|   15|        1|(2048,[1007,1261,...| 0.5043114595821483|\n",
      "|\"cnascwh\"| 27|[maybe, people, d...|   27|        1|(2048,[204,1063,1...| 0.5228772861694024|\n",
      "|\"cnascws\"| 13|       [multi, pass]|   13|        1|(2048,[656,2008],...| 0.5043114595821483|\n",
      "|\"cnasd2e\"| 16|[yuo, get, mo, ro...|   16|        1|(2048,[391,1074,1...| 0.5193256011746887|\n",
      "|\"cnasd5r\"| 19|[would, gone, 2, ...|   19|        1|(2048,[131,224,34...| 0.5043114595821483|\n",
      "|\"cnasd7e\"| 24|    [good, fuck, em]|   24|        1|(2048,[689,792,15...| 0.5043114595821483|\n",
      "|\"cnasd80\"| 16|                  []|   16|        1|        (2048,[],[])| 0.5043114595821483|\n",
      "|\"cnasd96\"| 29|[favorite, match,...|   29|        1|(2048,[51,613,732...| 0.5043114595821483|\n",
      "|\"cnasdea\"| 16|       [interesting]|   16|        1|  (2048,[813],[1.0])| 0.5043114595821483|\n",
      "|\"cnasdet\"| 32|[faith, op, deliv...|   32|        1|(2048,[122,148,68...| 0.5043114595821483|\n",
      "|\"cnasdfr\"| 70|[bismack, biyombo...|   70|        1|(2048,[978,1012,1...| 0.5043114595821483|\n",
      "|\"cnasdgb\"| 36|[m, inclined, agr...|   36|        1|(2048,[40,96,99,2...| 0.5350520669357915|\n",
      "|\"cnasdgm\"| 22|[episode, called,...|   22|        1|(2048,[358,406,73...| 0.5043114595821483|\n",
      "|\"cnasdjb\"| 11|             [sorry]|   11|        1| (2048,[1368],[1.0])| 0.5043114595821483|\n",
      "|\"cnasdju\"| 28|      [good, banter]|   28|        1|(2048,[792,1795],...| 0.5043114595821483|\n",
      "|\"cnasdl7\"| 20|[happy, new, year...|   20|        1|(2048,[131,277,39...| 0.5043114595821483|\n",
      "|\"cnasdlr\"| 53|[get, checked, mi...|   53|        1|(2048,[143,299,15...| 0.5043114595821483|\n",
      "|\"cnasdm5\"| 13|[ve, heard, every...|   13|        1|(2048,[1427,1517,...| 0.5043114595821483|\n",
      "|\"cnasdnp\"| 14|[oh, god, almost,...|   14|        1|(2048,[589,1092,1...| 0.5043114595821483|\n",
      "|\"cnasdon\"|177|[family, came, ru...|  177|        1|(2048,[308,901,92...| 0.5043114595821483|\n",
      "|\"cnasdps\"| 58|         [rip, 2014]|   58|        1|(2048,[868,1292],...| 0.5043114595821483|\n",
      "|\"cnasdsy\"|-21|[hope, schwartz, ...|  -21|        1|(2048,[3,180,325,...|  0.542803091103799|\n",
      "|\"cnase37\"| 20|[viola, player, u...|   20|        1|(2048,[189,191,21...| 0.5043114595821483|\n",
      "|\"cnase4q\"| 23|           [deleted]|   23|        1| (2048,[1048],[1.0])| 0.3390410516946547|\n",
      "|\"cnase8l\"| 13|[first, episode, ...|   13|        1|(2048,[44,191,436...| 0.5043114595821483|\n",
      "|\"cnase9w\"|195|[still, open, pop...|  195|        1|(2048,[1384,1410,...| 0.5228772861694024|\n",
      "|\"cnasebr\"| 14|[herniated, disc,...|   14|        1|(2048,[163,391,76...| 0.5193256011746887|\n",
      "|\"cnasee6\"| 17|[pretty, sure, gu...|   17|        1|(2048,[1005,1164,...| 0.5087846714601406|\n",
      "|\"cnasefm\"| 11|[r, n, nmfw, n, n...|   11|        1|(2048,[54,112,131...| 0.5100762999697996|\n",
      "|\"cnasejz\"| 59|        [girlfriend]|   59|        1| (2048,[1755],[1.0])| 0.5043114595821483|\n",
      "|\"cnasepx\"| 11|                  []|   11|        1|        (2048,[],[])| 0.5043114595821483|\n",
      "|\"cnaserm\"| 15|[shame, wasn, kil...|   15|        1|(2048,[876,1333,1...| 0.5043114595821483|\n",
      "|\"cnasetj\"| 15|[husband, feels, ...|   15|        1|(2048,[137,158,27...| 0.5043114595821483|\n",
      "|\"cnasex5\"|129|[sex, isn, appeal...|  129|        1|(2048,[16,301,343...| 0.5193256011746887|\n",
      "|\"cnasf1b\"|128|[live, oklahoma, ...|  128|        1|(2048,[285,775,20...| 0.5043114595821483|\n",
      "+---------+---+--------------------+-----+---------+--------------------+-------------------+\n",
      "only showing top 100 rows"
     ]
    }
   ],
   "source": [
    "rfpredictions.show(100)"
   ]
  },
  {
   "cell_type": "code",
   "execution_count": 15,
   "metadata": {},
   "outputs": [
    {
     "data": {
      "application/vnd.jupyter.widget-view+json": {
       "model_id": "27cfe1cbc8d04309a1442177f843ed49",
       "version_major": 2,
       "version_minor": 0
      },
      "text/plain": [
       "VBox()"
      ]
     },
     "metadata": {},
     "output_type": "display_data"
    },
    {
     "data": {
      "application/vnd.jupyter.widget-view+json": {
       "model_id": "",
       "version_major": 2,
       "version_minor": 0
      },
      "text/plain": [
       "FloatProgress(value=0.0, bar_style='info', description='Progress:', layout=Layout(height='25px', width='50%'),…"
      ]
     },
     "metadata": {},
     "output_type": "display_data"
    }
   ],
   "source": [
    "from pyspark.ml.classification import LogisticRegression\n",
    "from pyspark.mllib.classification import LogisticRegressionWithLBFGS, LogisticRegressionModel, LogisticRegressionWithSGD\n",
    "from pyspark.mllib.regression import LabeledPoint\n",
    "@timeit\n",
    "def logistic_regression_viral(df, featuresCol, labelCol):\n",
    "    '''\n",
    "    Returns a DataFrame containing a column of predicted values of the labelCol.\n",
    "    Predict the output of labelCol using values in featuresCol y = rf(x).\n",
    "    \n",
    "    @params:\n",
    "        df - DataFrame\n",
    "        featuresCol - input features, x\n",
    "        labelCol - output variable, y\n",
    "    '''\n",
    "    # split the training and test data using the holdout method\n",
    "#     print(df.count())\n",
    "#     df = df.filter((df.score >=0) & (df.score <10))\n",
    "#     print(df.show(10))\n",
    "#     print(df.count())\n",
    "    (trainingData, testData) = df.randomSplit([0.8, 0.2])\n",
    "    \n",
    "    \n",
    "    # TODO: Uncomment the lines below and replace <FILL IN> with appropriate code\n",
    "    # Given hyperparameters\n",
    "    standardization = False\n",
    "    elastic_net_param = 0.8\n",
    "    reg_param = .3\n",
    "    max_iter = 10\n",
    "\n",
    "    lr = (LogisticRegression(featuresCol=featuresCol, labelCol=labelCol, regParam = reg_param, standardization = standardization, maxIter = max_iter,elasticNetParam = elastic_net_param))\n",
    "  \n",
    "    lr_model_basic = lr.fit(trainingData)\n",
    "\n",
    "    trainingSummary = lr_model_basic.summary\n",
    "    accuracy = trainingSummary.accuracy\n",
    "    print(accuracy)\n",
    "    # create a DataFrame contained a column with predicted values of the labelCol\n",
    "    predictions = lr_model_basic.transform(testData)\n",
    "    \n",
    "    return predictions"
   ]
  },
  {
   "cell_type": "code",
   "execution_count": 16,
   "metadata": {},
   "outputs": [
    {
     "data": {
      "application/vnd.jupyter.widget-view+json": {
       "model_id": "0a19cd8910c44f2a9a40cc420397b1bf",
       "version_major": 2,
       "version_minor": 0
      },
      "text/plain": [
       "VBox()"
      ]
     },
     "metadata": {},
     "output_type": "display_data"
    },
    {
     "data": {
      "application/vnd.jupyter.widget-view+json": {
       "model_id": "",
       "version_major": 2,
       "version_minor": 0
      },
      "text/plain": [
       "FloatProgress(value=0.0, bar_style='info', description='Progress:', layout=Layout(height='25px', width='50%'),…"
      ]
     },
     "metadata": {},
     "output_type": "display_data"
    },
    {
     "name": "stdout",
     "output_type": "stream",
     "text": [
      "0.5000063174460986\n",
      "'logistic_regression_viral' took 116.95 sec\n",
      "\n",
      "Root Mean Squared Error (RMSE) on test data = 0.706931"
     ]
    }
   ],
   "source": [
    "# train random forest regression\n",
    "lrViralpredictions = logistic_regression_viral(df=hashDF,featuresCol=\"features\",labelCol=\"viralness\")\n",
    "\n",
    "# compute the error\n",
    "evaluator = RegressionEvaluator(labelCol=\"viralness\", predictionCol=\"prediction\", metricName=\"rmse\")\n",
    "rmse = evaluator.evaluate(lrViralpredictions)\n",
    "print (\"Root Mean Squared Error (RMSE) on test data = %g\" % rmse)"
   ]
  },
  {
   "cell_type": "code",
   "execution_count": 17,
   "metadata": {},
   "outputs": [
    {
     "data": {
      "application/vnd.jupyter.widget-view+json": {
       "model_id": "6990b8b18bd54f0d844d9a0e237d27e7",
       "version_major": 2,
       "version_minor": 0
      },
      "text/plain": [
       "VBox()"
      ]
     },
     "metadata": {},
     "output_type": "display_data"
    },
    {
     "data": {
      "application/vnd.jupyter.widget-view+json": {
       "model_id": "",
       "version_major": 2,
       "version_minor": 0
      },
      "text/plain": [
       "FloatProgress(value=0.0, bar_style='info', description='Progress:', layout=Layout(height='25px', width='50%'),…"
      ]
     },
     "metadata": {},
     "output_type": "display_data"
    },
    {
     "name": "stdout",
     "output_type": "stream",
     "text": [
      "+---------+----+--------------------+-----+---------+--------------------+--------------------+--------------------+----------+\n",
      "|       id| ups|      filtered_words|score|viralness|            features|       rawPrediction|         probability|prediction|\n",
      "+---------+----+--------------------+-----+---------+--------------------+--------------------+--------------------+----------+\n",
      "|\"cnas91w\"|  14|[hear, sdss, j122...|   14|        1|(2048,[122,340,58...|[-2.5269784395451...|[0.49999368255390...|       1.0|\n",
      "|\"cnas93e\"|  22|[oh, man, n, nhtt...|   22|        1|(2048,[16,342,391...|[-2.5269784395451...|[0.49999368255390...|       1.0|\n",
      "|\"cnas96o\"|  86|      [bron, person]|   86|        1|(2048,[365,505],[...|[-2.5269784395451...|[0.49999368255390...|       1.0|\n",
      "|\"cnas97m\"|  69|[option, 0, tell,...|   69|        1|(2048,[35,414,445...|[-2.5269784395451...|[0.49999368255390...|       1.0|\n",
      "|\"cnas98l\"|  13|[really, strange,...|   13|        1|(2048,[14,526,180...|[-2.5269784395451...|[0.49999368255390...|       1.0|\n",
      "|\"cnas99e\"| -28|[bro, skip, weddi...|  -28|        1|(2048,[198,273,27...|[-2.5269784395451...|[0.49999368255390...|       1.0|\n",
      "|\"cnas9ez\"|  16| [laser, quest, ___]|   16|        1|(2048,[981,1519,1...|[-2.5269784395451...|[0.49999368255390...|       1.0|\n",
      "|\"cnas9g9\"|  15|[lake, elsinore, ...|   15|        1|(2048,[416,633,74...|[-2.5269784395451...|[0.49999368255390...|       1.0|\n",
      "|\"cnas9ge\"|  16|[even, though, fi...|   16|        1|(2048,[731,784,88...|[-2.5269784395451...|[0.49999368255390...|       1.0|\n",
      "|\"cnas9gm\"|  15|           [deleted]|   15|        1| (2048,[1048],[1.0])|[-2.5269784395451...|[0.49999368255390...|       1.0|\n",
      "|\"cnas9h7\"|  13|   [judging, bottle]|   13|        1|(2048,[165,226],[...|[-2.5269784395451...|[0.49999368255390...|       1.0|\n",
      "|\"cnas9lk\"|  35|[commenters, unfu...|   35|        1|(2048,[137,389,72...|[-2.5269784395451...|[0.49999368255390...|       1.0|\n",
      "|\"cnas9lx\"|  18|[unemployed, fune...|   18|        1|(2048,[444,1973],...|[-2.5269784395451...|[0.49999368255390...|       1.0|\n",
      "|\"cnas9mu\"|  17|[gt, means, north...|   17|        1|(2048,[136,195,39...|[-2.5269784395451...|[0.49999368255390...|       1.0|\n",
      "|\"cnas9on\"| -11|           [deleted]|  -11|        1| (2048,[1048],[1.0])|[-2.5269784395451...|[0.49999368255390...|       1.0|\n",
      "|\"cnas9pa\"|  11|  [rough, 26, right]|   11|        1|(2048,[558,1343,1...|[-2.5269784395451...|[0.49999368255390...|       1.0|\n",
      "|\"cnas9pu\"|  16|       [haven, seen]|   16|        1|(2048,[225,1004],...|[-2.5269784395451...|[0.49999368255390...|       1.0|\n",
      "|\"cnas9tg\"|  18|[person, play, wa...|   18|        1|(2048,[16,505,110...|[-2.5269784395451...|[0.49999368255390...|       1.0|\n",
      "|\"cnas9v5\"| -36|[room, dirty, fil...|  -36|        1|(2048,[249,687,71...|[-2.5269784395451...|[0.49999368255390...|       1.0|\n",
      "|\"cnas9vn\"|1012|[became, hallowee...| 1012|        1|(2048,[122,262,32...|[-2.5269784395451...|[0.49999368255390...|       1.0|\n",
      "|\"cnas9wi\"| -66|[gt, assumes, for...|  -66|        1|(2048,[109,148,67...|[-2.5269784395451...|[0.49999368255390...|       1.0|\n",
      "|\"cnas9zr\"|  81|[real, life, d, c...|   81|        1|(2048,[79,122,205...|[-2.5269784395451...|[0.49999368255390...|       1.0|\n",
      "|\"cnasa29\"| -25|    [fucking, loser]|  -25|        1|(2048,[1527,1648]...|[-2.5269784395451...|[0.49999368255390...|       1.0|\n",
      "|\"cnasa98\"|  12|[pass, got, fag, ...|   12|        1|(2048,[743,1503,1...|[-2.5269784395451...|[0.49999368255390...|       1.0|\n",
      "|\"cnasabd\"|  16|[hypocrisy, re, b...|   16|        1|(2048,[391,497,77...|[-2.5269784395451...|[0.49999368255390...|       1.0|\n",
      "|\"cnasafj\"|  13|[true, pox, nora,...|   13|        1|(2048,[0,3,9,40,1...|[-2.5269784395451...|[0.49999368255390...|       1.0|\n",
      "|\"cnasafm\"|  15|[love, rabbits, s...|   15|        1|(2048,[31,101,112...|[-2.5269784395451...|[0.49999368255390...|       1.0|\n",
      "|\"cnasag5\"|  23|[u, jereader, pos...|   23|        1|(2048,[226,301,88...|[-2.5269784395451...|[0.49999368255390...|       1.0|\n",
      "|\"cnasahc\"|  86|[entire, espnfc, ...|   86|        1|(2048,[239,418,52...|[-2.5269784395451...|[0.49999368255390...|       1.0|\n",
      "|\"cnasahf\"|  14|        [y, titties]|   14|        1|(2048,[579,1003],...|[-2.5269784395451...|[0.49999368255390...|       1.0|\n",
      "|\"cnasaja\"|  21|[na, greatest, te...|   21|        1|(2048,[180,1050,1...|[-2.5269784395451...|[0.49999368255390...|       1.0|\n",
      "|\"cnasak0\"| 121|[damn, vaguely, r...|  121|        1|(2048,[131,139,27...|[-2.5269784395451...|[0.49999368255390...|       1.0|\n",
      "|\"cnasap1\"|  61|             [avast]|   61|        1|  (2048,[708],[1.0])|[-2.5269784395451...|[0.49999368255390...|       1.0|\n",
      "|\"cnasard\"|  34|[jesus, fucking, ...|   34|        1|(2048,[1170,1627,...|[-2.5269784395451...|[0.49999368255390...|       1.0|\n",
      "|\"cnasatz\"|  39|[kids, best, thin...|   39|        1|(2048,[21,139,322...|[-2.5269784395451...|[0.49999368255390...|       1.0|\n",
      "|\"cnasavt\"| -13|[tried, murderein...|  -13|        1|(2048,[587,988,12...|[-2.5269784395451...|[0.49999368255390...|       1.0|\n",
      "|\"cnasayc\"|  32|[someone, probabl...|   32|        1|(2048,[33,104,131...|[-2.5269784395451...|[0.49999368255390...|       1.0|\n",
      "|\"cnasb02\"| 968|          [fairness]|  968|        1|  (2048,[260],[1.0])|[-2.5269784395451...|[0.49999368255390...|       1.0|\n",
      "|\"cnasb17\"|  19|[wait, nebby, get...|   19|        1|(2048,[463,515,56...|[-2.5269784395451...|[0.49999368255390...|       1.0|\n",
      "|\"cnasb18\"|  41|[western, sahara,...|   41|        1|(2048,[1332,1808,...|[-2.5269784395451...|[0.49999368255390...|       1.0|\n",
      "|\"cnasb19\"| 101|[ll, always, grea...|  101|        1|(2048,[159,180,23...|[-2.5269784395451...|[0.49999368255390...|       1.0|\n",
      "|\"cnasb2v\"|  33|[5th, seeded, cav...|   33|        1|(2048,[96,118,120...|[-2.5269784395451...|[0.49999368255390...|       1.0|\n",
      "|\"cnasb4j\"|  19|[purpose, sound, ...|   19|        1|(2048,[762,1093,1...|[-2.5269784395451...|[0.49999368255390...|       1.0|\n",
      "|\"cnasb5t\"|  20|              [mate]|   20|        1| (2048,[1640],[1.0])|[-2.5269784395451...|[0.49999368255390...|       1.0|\n",
      "|\"cnasb96\"|  52|[smash, 4, tits, ...|   52|        1|(2048,[26,40,101,...|[-2.5269784395451...|[0.49999368255390...|       1.0|\n",
      "|\"cnasb9p\"|  15|[fast, food, work...|   15|        1|(2048,[116,301,35...|[-2.5269784395451...|[0.49999368255390...|       1.0|\n",
      "|\"cnasbb0\"|  19|[transparent, att...|   19|        1|(2048,[95,531,120...|[-2.5269784395451...|[0.49999368255390...|       1.0|\n",
      "|\"cnasbbc\"|  20|[also, lord, war,...|   20|        1|(2048,[611,1412,1...|[-2.5269784395451...|[0.49999368255390...|       1.0|\n",
      "|\"cnasbbo\"|  14|           [deleted]|   14|        1| (2048,[1048],[1.0])|[-2.5269784395451...|[0.49999368255390...|       1.0|\n",
      "|\"cnasbc0\"| -16|           [deleted]|  -16|        1| (2048,[1048],[1.0])|[-2.5269784395451...|[0.49999368255390...|       1.0|\n",
      "|\"cnasbhl\"|  12|      [elijah, wood]|   12|        1|(2048,[535,1841],...|[-2.5269784395451...|[0.49999368255390...|       1.0|\n",
      "|\"cnasbir\"|  37|[exactly, mean, t...|   37|        1|(2048,[51,122,131...|[-2.5269784395451...|[0.49999368255390...|       1.0|\n",
      "|\"cnasbit\"|  11|             [jesus]|   11|        1| (2048,[1170],[1.0])|[-2.5269784395451...|[0.49999368255390...|       1.0|\n",
      "|\"cnasbkl\"| -13|[bryan, main, eve...|  -13|        1|(2048,[131,370,39...|[-2.5269784395451...|[0.49999368255390...|       1.0|\n",
      "|\"cnasbqy\"|  15|[first, comment, ...|   15|        1|(2048,[191,237,31...|[-2.5269784395451...|[0.49999368255390...|       1.0|\n",
      "|\"cnasbsw\"|  20|                  []|   20|        1|        (2048,[],[])|[-2.5269784395451...|[0.49999368255390...|       1.0|\n",
      "|\"cnasbvd\"|  32|[tv, part, articl...|   32|        1|(2048,[14,612,133...|[-2.5269784395451...|[0.49999368255390...|       1.0|\n",
      "|\"cnasbwe\"|  67|[gif, might, look...|   67|        1|(2048,[215,216,28...|[-2.5269784395451...|[0.49999368255390...|       1.0|\n",
      "|\"cnasbyx\"|  13|[actually, enjoyi...|   13|        1|(2048,[518,1003,1...|[-2.5269784395451...|[0.49999368255390...|       1.0|\n",
      "|\"cnasc15\"|  16|       [look, great]|   16|        1|(2048,[531,1140],...|[-2.5269784395451...|[0.49999368255390...|       1.0|\n",
      "|\"cnasc1j\"|  40|[umm, yeah, know,...|   40|        1|(2048,[145,476,10...|[-2.5269784395451...|[0.49999368255390...|       1.0|\n",
      "|\"cnasc2h\"|  11|[portfolio, defin...|   11|        1|(2048,[6,205,391,...|[-2.5269784395451...|[0.49999368255390...|       1.0|\n",
      "|\"cnasc49\"| -64|[bet, life, unsat...|  -64|        1|(2048,[165,485,53...|[-2.5269784395451...|[0.49999368255390...|       1.0|\n",
      "|\"cnasc4a\"|  20|[ah, m, glad, som...|   20|        1|(2048,[478,711,16...|[-2.5269784395451...|[0.49999368255390...|       1.0|\n",
      "|\"cnasc7r\"| 103|   [wow, go, police]|  103|        1|(2048,[22,445,125...|[-2.5269784395451...|[0.49999368255390...|       1.0|\n",
      "|\"cnasc8s\"| 103|[quit, fucking, m...|  103|        1|(2048,[988,1648,1...|[-2.5269784395451...|[0.49999368255390...|       1.0|\n",
      "|\"cnascbi\"| -12|           [deleted]|  -12|        1| (2048,[1048],[1.0])|[-2.5269784395451...|[0.49999368255390...|       1.0|\n",
      "|\"cnasccu\"|  14|     [top, photo, d]|   14|        1|(2048,[249,797,90...|[-2.5269784395451...|[0.49999368255390...|       1.0|\n",
      "|\"cnascdc\"|  13|[mind, goes, alon...|   13|        1|(2048,[83,566,704...|[-2.5269784395451...|[0.49999368255390...|       1.0|\n",
      "|\"cnascdr\"|  15|              [hell]|   15|        1| (2048,[1649],[1.0])|[-2.5269784395451...|[0.49999368255390...|       1.0|\n",
      "|\"cnascew\"|  69|[faith, man, tota...|   69|        1|(2048,[3,159,342,...|[-2.5269784395451...|[0.49999368255390...|       1.0|\n",
      "|\"cnascfz\"|  29|[inquisitor, woma...|   29|        1|(2048,[1183,1520,...|[-2.5269784395451...|[0.49999368255390...|       1.0|\n",
      "|\"cnasci8\"| 243|[17, discovered, ...|  243|        1|(2048,[151,340,47...|[-2.5269784395451...|[0.49999368255390...|       1.0|\n",
      "|\"cnasckt\"|  21|                  []|   21|        1|        (2048,[],[])|[-2.5269784395451...|[0.49999368255390...|       1.0|\n",
      "|\"cnascm9\"|  15|[hell, feeding, t...|   15|        1|(2048,[693,1003,1...|[-2.5269784395451...|[0.49999368255390...|       1.0|\n",
      "|\"cnascov\"|  20|[train, t2, warri...|   20|        1|(2048,[276,555,11...|[-2.5269784395451...|[0.49999368255390...|       1.0|\n",
      "|\"cnascpe\"|  11|[self, reporting,...|   11|        1|(2048,[58,325,368...|[-2.5269784395451...|[0.49999368255390...|       1.0|\n",
      "|\"cnascul\"|  27|[charles, barkley...|   27|        1|(2048,[532,720,10...|[-2.5269784395451...|[0.49999368255390...|       1.0|\n",
      "|\"cnascuo\"|  14|[came, make, fun,...|   14|        1|(2048,[251,308,48...|[-2.5269784395451...|[0.49999368255390...|       1.0|\n",
      "|\"cnascwj\"|  16|[hate, government...|   16|        1|(2048,[202,766,10...|[-2.5269784395451...|[0.49999368255390...|       1.0|\n",
      "|\"cnascwp\"|  57|   [congratulations]|   57|        1| (2048,[1972],[1.0])|[-2.5269784395451...|[0.49999368255390...|       1.0|\n",
      "|\"cnascx5\"|  34|[think, get, twow...|   34|        1|(2048,[116,159,39...|[-2.5269784395451...|[0.49999368255390...|       1.0|\n",
      "|\"cnascx9\"| 144|[m, sure, tony, h...|  144|        1|(2048,[478,658,66...|[-2.5269784395451...|[0.49999368255390...|       1.0|\n",
      "|\"cnasd07\"|  11|[stick, spirits, ...|   11|        1|(2048,[10,33,75,9...|[-2.5269784395451...|[0.49999368255390...|       1.0|\n",
      "|\"cnasd27\"| -14|[name, country, w...|  -14|        1|(2048,[303,881,12...|[-2.5269784395451...|[0.49999368255390...|       1.0|\n",
      "|\"cnasd2i\"|  27|[ve, got, crap, t...|   27|        1|(2048,[69,104,459...|[-2.5269784395451...|[0.49999368255390...|       1.0|\n",
      "|\"cnasd3w\"| 234|[terrible, idea, ...|  234|        1|(2048,[237,645,72...|[-2.5269784395451...|[0.49999368255390...|       1.0|\n",
      "|\"cnasd57\"|  11|[night, auditor, ...|   11|        1|(2048,[76,325,556...|[-2.5269784395451...|[0.49999368255390...|       1.0|\n",
      "|\"cnasd5t\"|  32|                  []|   32|        1|        (2048,[],[])|[-2.5269784395451...|[0.49999368255390...|       1.0|\n",
      "|\"cnasd6j\"|  12|[man, people, for...|   12|        1|(2048,[249,342,15...|[-2.5269784395451...|[0.49999368255390...|       1.0|\n",
      "|\"cnasdd3\"|  15|[m, age, think, n...|   15|        1|(2048,[289,396,47...|[-2.5269784395451...|[0.49999368255390...|       1.0|\n",
      "|\"cnasdet\"|  32|[faith, op, deliv...|   32|        1|(2048,[122,148,68...|[-2.5269784395451...|[0.49999368255390...|       1.0|\n",
      "|\"cnasdez\"|  11|[rob, throw, incr...|   11|        1|(2048,[62,194,225...|[-2.5269784395451...|[0.49999368255390...|       1.0|\n",
      "|\"cnasdfr\"|  70|[bismack, biyombo...|   70|        1|(2048,[978,1012,1...|[-2.5269784395451...|[0.49999368255390...|       1.0|\n",
      "|\"cnasdg6\"|  15|[picture, bot, fa...|   15|        1|(2048,[35,391,459...|[-2.5269784395451...|[0.49999368255390...|       1.0|\n",
      "|\"cnasdgz\"|  23|[posted, mad, lib...|   23|        1|(2048,[310,537,67...|[-2.5269784395451...|[0.49999368255390...|       1.0|\n",
      "|\"cnasdhr\"|  36|         [fix, fire]|   36|        1|(2048,[1253,1687]...|[-2.5269784395451...|[0.49999368255390...|       1.0|\n",
      "|\"cnasdjq\"|  11|              [wait]|   11|        1|  (2048,[565],[1.0])|[-2.5269784395451...|[0.49999368255390...|       1.0|\n",
      "|\"cnasdju\"|  28|      [good, banter]|   28|        1|(2048,[792,1795],...|[-2.5269784395451...|[0.49999368255390...|       1.0|\n",
      "|\"cnasdkq\"|  18|[need, accept, ca...|   18|        1|(2048,[243,246,39...|[-2.5269784395451...|[0.49999368255390...|       1.0|\n",
      "+---------+----+--------------------+-----+---------+--------------------+--------------------+--------------------+----------+\n",
      "only showing top 100 rows"
     ]
    }
   ],
   "source": [
    "lrViralpredictions.show(100)"
   ]
  },
  {
   "cell_type": "code",
   "execution_count": 18,
   "metadata": {},
   "outputs": [
    {
     "data": {
      "application/vnd.jupyter.widget-view+json": {
       "model_id": "626423fd2d2a4911bf414dcdc3edce6a",
       "version_major": 2,
       "version_minor": 0
      },
      "text/plain": [
       "VBox()"
      ]
     },
     "metadata": {},
     "output_type": "display_data"
    },
    {
     "data": {
      "application/vnd.jupyter.widget-view+json": {
       "model_id": "",
       "version_major": 2,
       "version_minor": 0
      },
      "text/plain": [
       "FloatProgress(value=0.0, bar_style='info', description='Progress:', layout=Layout(height='25px', width='50%'),…"
      ]
     },
     "metadata": {},
     "output_type": "display_data"
    }
   ],
   "source": [
    "hashDF = hashDF.cache()"
   ]
  },
  {
   "cell_type": "code",
   "execution_count": 19,
   "metadata": {},
   "outputs": [
    {
     "data": {
      "application/vnd.jupyter.widget-view+json": {
       "model_id": "229fa1f33a76477ea00e30ba433e6980",
       "version_major": 2,
       "version_minor": 0
      },
      "text/plain": [
       "VBox()"
      ]
     },
     "metadata": {},
     "output_type": "display_data"
    },
    {
     "data": {
      "application/vnd.jupyter.widget-view+json": {
       "model_id": "",
       "version_major": 2,
       "version_minor": 0
      },
      "text/plain": [
       "FloatProgress(value=0.0, bar_style='info', description='Progress:', layout=Layout(height='25px', width='50%'),…"
      ]
     },
     "metadata": {},
     "output_type": "display_data"
    },
    {
     "name": "stdout",
     "output_type": "stream",
     "text": [
      "0.5000267970357178\n",
      "'logistic_regression_viral' took 52.89 sec\n",
      "\n",
      "Root Mean Squared Error (RMSE) on test data = 0.706989"
     ]
    }
   ],
   "source": [
    "# train random forest regression\n",
    "lrViralpredictions = logistic_regression_viral(df=hashDF,featuresCol=\"features\",labelCol=\"viralness\")\n",
    "\n",
    "# compute the error\n",
    "evaluator = RegressionEvaluator(labelCol=\"viralness\", predictionCol=\"prediction\", metricName=\"rmse\")\n",
    "rmse = evaluator.evaluate(lrViralpredictions)\n",
    "print (\"Root Mean Squared Error (RMSE) on test data = %g\" % rmse)"
   ]
  },
  {
   "cell_type": "code",
   "execution_count": 20,
   "metadata": {},
   "outputs": [
    {
     "data": {
      "application/vnd.jupyter.widget-view+json": {
       "model_id": "9578b8437b4740cdac09e4d3342244e0",
       "version_major": 2,
       "version_minor": 0
      },
      "text/plain": [
       "VBox()"
      ]
     },
     "metadata": {},
     "output_type": "display_data"
    },
    {
     "data": {
      "application/vnd.jupyter.widget-view+json": {
       "model_id": "",
       "version_major": 2,
       "version_minor": 0
      },
      "text/plain": [
       "FloatProgress(value=0.0, bar_style='info', description='Progress:', layout=Layout(height='25px', width='50%'),…"
      ]
     },
     "metadata": {},
     "output_type": "display_data"
    },
    {
     "name": "stdout",
     "output_type": "stream",
     "text": [
      "'random_forest_regression' took 323.39 sec\n",
      "\n",
      "Root Mean Squared Error (RMSE) on test data = 0.495968"
     ]
    }
   ],
   "source": [
    "# train random forest regression\n",
    "rfpredictions = random_forest_regression(df=hashDF,featuresCol=\"features\",labelCol=\"viralness\")\n",
    "\n",
    "# compute the error\n",
    "evaluator = RegressionEvaluator(labelCol=\"viralness\", predictionCol=\"prediction\", metricName=\"rmse\")\n",
    "rmse = evaluator.evaluate(rfpredictions)\n",
    "print(\"Root Mean Squared Error (RMSE) on test data = %g\" % rmse)"
   ]
  },
  {
   "cell_type": "code",
   "execution_count": null,
   "metadata": {},
   "outputs": [],
   "source": []
  }
 ],
 "metadata": {
  "kernelspec": {
   "display_name": "PySpark",
   "language": "",
   "name": "pysparkkernel"
  },
  "language_info": {
   "codemirror_mode": {
    "name": "python",
    "version": 2
   },
   "mimetype": "text/x-python",
   "name": "pyspark",
   "pygments_lexer": "python2"
  }
 },
 "nbformat": 4,
 "nbformat_minor": 4
}
